{
 "cells": [
  {
   "cell_type": "markdown",
   "metadata": {
    "id": "Z3aYVBbW6oUt"
   },
   "source": [
    "# 1. Latent Dirichlet Allocation\n",
    "\n",
    "We analyse the reviews written in Yelp for the restaurant 'ABC Kitchen' using LDA in an effort to do topic modeling. In other words, we use LDA to extract most common topics across the reviews. Doing so will help us in determining how the patrons are either liking or disliking the restaurant. "
   ]
  },
  {
   "cell_type": "markdown",
   "metadata": {
    "id": "OqEPf4Aw6oVX"
   },
   "source": [
    "## 1.1 Install required packages\n"
   ]
  },
  {
   "cell_type": "code",
   "execution_count": null,
   "metadata": {
    "id": "J17WGjPN6oVZ",
    "scrolled": true
   },
   "outputs": [],
   "source": [
    "!pip install gensim==3.8.3 # install gensim for LDA"
   ]
  },
  {
   "cell_type": "code",
   "execution_count": null,
   "metadata": {
    "id": "_LbBnGUE6oVb"
   },
   "outputs": [],
   "source": [
    "!pip install nltk # install nltk to preprocess sentences"
   ]
  },
  {
   "cell_type": "code",
   "execution_count": null,
   "metadata": {
    "id": "sBiKkj3I6oVc",
    "scrolled": true
   },
   "outputs": [],
   "source": [
    "!pip install pyldavis==3.2.2 # to visualize LDA topics"
   ]
  },
  {
   "cell_type": "code",
   "execution_count": null,
   "metadata": {
    "id": "Uz9joq-S6oVd"
   },
   "outputs": [],
   "source": [
    "!pip install matplotlib # for plotting"
   ]
  },
  {
   "cell_type": "markdown",
   "metadata": {
    "id": "ybX6tLKL6oVe"
   },
   "source": [
    "The cell below tests if the packages we need have been installed correctly, and that we are in the correct environment."
   ]
  },
  {
   "cell_type": "code",
   "execution_count": null,
   "metadata": {
    "id": "lJ4KCgdU6oVf"
   },
   "outputs": [],
   "source": [
    "import gensim\n",
    "import nltk\n",
    "nltk.download(\"stopwords\")\n",
    "import pyLDAvis\n",
    "import matplotlib\n",
    "import string\n",
    "import re\n",
    "import pandas as pd\n",
    "%matplotlib inline"
   ]
  },
  {
   "cell_type": "markdown",
   "metadata": {
    "id": "VedrSJIr6oVo"
   },
   "source": [
    "## 1.1 Read the data\n",
    "\n",
    "Download review file into a pandas dataframe. Split the reviews by merchant name. There are 5 merchants in all; store one in each dataframe. "
   ]
  },
  {
   "cell_type": "code",
   "execution_count": 6,
   "metadata": {
    "colab": {
     "base_uri": "https://localhost:8080/"
    },
    "id": "-9i5viSBs_eT",
    "outputId": "1cd81543-0aa9-4930-cf95-44ad0b8f1dd0"
   },
   "outputs": [
    {
     "name": "stdout",
     "output_type": "stream",
     "text": [
      "Mounted at /content/gdrive\n"
     ]
    }
   ],
   "source": [
    "from google.colab import drive\n",
    "drive.mount('/content/gdrive')"
   ]
  },
  {
   "cell_type": "code",
   "execution_count": 7,
   "metadata": {
    "colab": {
     "base_uri": "https://localhost:8080/",
     "height": 206
    },
    "id": "kSSagHJisyd1",
    "outputId": "250cac2c-d343-436f-c3e3-aabced3df31b"
   },
   "outputs": [
    {
     "data": {
      "text/html": [
       "\n",
       "  <div id=\"df-ce2a6ef5-ba5f-40fd-af5e-9e43b9237b42\">\n",
       "    <div class=\"colab-df-container\">\n",
       "      <div>\n",
       "<style scoped>\n",
       "    .dataframe tbody tr th:only-of-type {\n",
       "        vertical-align: middle;\n",
       "    }\n",
       "\n",
       "    .dataframe tbody tr th {\n",
       "        vertical-align: top;\n",
       "    }\n",
       "\n",
       "    .dataframe thead th {\n",
       "        text-align: right;\n",
       "    }\n",
       "</style>\n",
       "<table border=\"1\" class=\"dataframe\">\n",
       "  <thead>\n",
       "    <tr style=\"text-align: right;\">\n",
       "      <th></th>\n",
       "      <th>Merhcant Name</th>\n",
       "      <th>Sentiment</th>\n",
       "      <th>Review</th>\n",
       "      <th>Date/Time</th>\n",
       "      <th>Rating</th>\n",
       "      <th>URL</th>\n",
       "    </tr>\n",
       "  </thead>\n",
       "  <tbody>\n",
       "    <tr>\n",
       "      <th>0</th>\n",
       "      <td>ABC Kitchen</td>\n",
       "      <td>Positive</td>\n",
       "      <td>I'm glad indoor dining has resumed in NYC, and...</td>\n",
       "      <td>2/17/21 7:54</td>\n",
       "      <td>5</td>\n",
       "      <td>https://www.yelp.com/biz/abc-kitchen-new-york?...</td>\n",
       "    </tr>\n",
       "    <tr>\n",
       "      <th>1</th>\n",
       "      <td>ABC Kitchen</td>\n",
       "      <td>Negative</td>\n",
       "      <td>A colleague of mine who is also a pretty loyal...</td>\n",
       "      <td>2/16/21 10:28</td>\n",
       "      <td>1</td>\n",
       "      <td>https://www.yelp.com/biz/abc-kitchen-new-york?...</td>\n",
       "    </tr>\n",
       "    <tr>\n",
       "      <th>2</th>\n",
       "      <td>ABC Kitchen</td>\n",
       "      <td>Positive</td>\n",
       "      <td>I had heard that they were doing outdoor dinin...</td>\n",
       "      <td>1/23/21 15:46</td>\n",
       "      <td>5</td>\n",
       "      <td>https://www.yelp.com/biz/abc-kitchen-new-york?...</td>\n",
       "    </tr>\n",
       "    <tr>\n",
       "      <th>3</th>\n",
       "      <td>ABC Kitchen</td>\n",
       "      <td>Positive</td>\n",
       "      <td>Outdoor dining in the winter can be challengin...</td>\n",
       "      <td>1/11/21 12:13</td>\n",
       "      <td>4</td>\n",
       "      <td>https://www.yelp.com/biz/abc-kitchen-new-york?...</td>\n",
       "    </tr>\n",
       "    <tr>\n",
       "      <th>4</th>\n",
       "      <td>ABC Kitchen</td>\n",
       "      <td>Positive</td>\n",
       "      <td>I ate inside when we were still able too but y...</td>\n",
       "      <td>1/7/21 19:51</td>\n",
       "      <td>5</td>\n",
       "      <td>https://www.yelp.com/biz/abc-kitchen-new-york?...</td>\n",
       "    </tr>\n",
       "  </tbody>\n",
       "</table>\n",
       "</div>\n",
       "      <button class=\"colab-df-convert\" onclick=\"convertToInteractive('df-ce2a6ef5-ba5f-40fd-af5e-9e43b9237b42')\"\n",
       "              title=\"Convert this dataframe to an interactive table.\"\n",
       "              style=\"display:none;\">\n",
       "        \n",
       "  <svg xmlns=\"http://www.w3.org/2000/svg\" height=\"24px\"viewBox=\"0 0 24 24\"\n",
       "       width=\"24px\">\n",
       "    <path d=\"M0 0h24v24H0V0z\" fill=\"none\"/>\n",
       "    <path d=\"M18.56 5.44l.94 2.06.94-2.06 2.06-.94-2.06-.94-.94-2.06-.94 2.06-2.06.94zm-11 1L8.5 8.5l.94-2.06 2.06-.94-2.06-.94L8.5 2.5l-.94 2.06-2.06.94zm10 10l.94 2.06.94-2.06 2.06-.94-2.06-.94-.94-2.06-.94 2.06-2.06.94z\"/><path d=\"M17.41 7.96l-1.37-1.37c-.4-.4-.92-.59-1.43-.59-.52 0-1.04.2-1.43.59L10.3 9.45l-7.72 7.72c-.78.78-.78 2.05 0 2.83L4 21.41c.39.39.9.59 1.41.59.51 0 1.02-.2 1.41-.59l7.78-7.78 2.81-2.81c.8-.78.8-2.07 0-2.86zM5.41 20L4 18.59l7.72-7.72 1.47 1.35L5.41 20z\"/>\n",
       "  </svg>\n",
       "      </button>\n",
       "      \n",
       "  <style>\n",
       "    .colab-df-container {\n",
       "      display:flex;\n",
       "      flex-wrap:wrap;\n",
       "      gap: 12px;\n",
       "    }\n",
       "\n",
       "    .colab-df-convert {\n",
       "      background-color: #E8F0FE;\n",
       "      border: none;\n",
       "      border-radius: 50%;\n",
       "      cursor: pointer;\n",
       "      display: none;\n",
       "      fill: #1967D2;\n",
       "      height: 32px;\n",
       "      padding: 0 0 0 0;\n",
       "      width: 32px;\n",
       "    }\n",
       "\n",
       "    .colab-df-convert:hover {\n",
       "      background-color: #E2EBFA;\n",
       "      box-shadow: 0px 1px 2px rgba(60, 64, 67, 0.3), 0px 1px 3px 1px rgba(60, 64, 67, 0.15);\n",
       "      fill: #174EA6;\n",
       "    }\n",
       "\n",
       "    [theme=dark] .colab-df-convert {\n",
       "      background-color: #3B4455;\n",
       "      fill: #D2E3FC;\n",
       "    }\n",
       "\n",
       "    [theme=dark] .colab-df-convert:hover {\n",
       "      background-color: #434B5C;\n",
       "      box-shadow: 0px 1px 3px 1px rgba(0, 0, 0, 0.15);\n",
       "      filter: drop-shadow(0px 1px 2px rgba(0, 0, 0, 0.3));\n",
       "      fill: #FFFFFF;\n",
       "    }\n",
       "  </style>\n",
       "\n",
       "      <script>\n",
       "        const buttonEl =\n",
       "          document.querySelector('#df-ce2a6ef5-ba5f-40fd-af5e-9e43b9237b42 button.colab-df-convert');\n",
       "        buttonEl.style.display =\n",
       "          google.colab.kernel.accessAllowed ? 'block' : 'none';\n",
       "\n",
       "        async function convertToInteractive(key) {\n",
       "          const element = document.querySelector('#df-ce2a6ef5-ba5f-40fd-af5e-9e43b9237b42');\n",
       "          const dataTable =\n",
       "            await google.colab.kernel.invokeFunction('convertToInteractive',\n",
       "                                                     [key], {});\n",
       "          if (!dataTable) return;\n",
       "\n",
       "          const docLinkHtml = 'Like what you see? Visit the ' +\n",
       "            '<a target=\"_blank\" href=https://colab.research.google.com/notebooks/data_table.ipynb>data table notebook</a>'\n",
       "            + ' to learn more about interactive tables.';\n",
       "          element.innerHTML = '';\n",
       "          dataTable['output_type'] = 'display_data';\n",
       "          await google.colab.output.renderOutput(dataTable, element);\n",
       "          const docLink = document.createElement('div');\n",
       "          docLink.innerHTML = docLinkHtml;\n",
       "          element.appendChild(docLink);\n",
       "        }\n",
       "      </script>\n",
       "    </div>\n",
       "  </div>\n",
       "  "
      ],
      "text/plain": [
       "  Merhcant Name  ...                                                URL\n",
       "0   ABC Kitchen  ...  https://www.yelp.com/biz/abc-kitchen-new-york?...\n",
       "1   ABC Kitchen  ...  https://www.yelp.com/biz/abc-kitchen-new-york?...\n",
       "2   ABC Kitchen  ...  https://www.yelp.com/biz/abc-kitchen-new-york?...\n",
       "3   ABC Kitchen  ...  https://www.yelp.com/biz/abc-kitchen-new-york?...\n",
       "4   ABC Kitchen  ...  https://www.yelp.com/biz/abc-kitchen-new-york?...\n",
       "\n",
       "[5 rows x 6 columns]"
      ]
     },
     "execution_count": 7,
     "metadata": {},
     "output_type": "execute_result"
    }
   ],
   "source": [
    "path = \"/content/gdrive/My Drive/LDA Yelp Review/\"  #change the path to file location\n",
    "filename = \"yelp_review_ibm_label.csv\" #filename\n",
    "review_df = pd.read_csv(path+filename) #read into dataframe\n",
    "review_df.head()"
   ]
  },
  {
   "cell_type": "code",
   "execution_count": 8,
   "metadata": {
    "colab": {
     "base_uri": "https://localhost:8080/"
    },
    "id": "HLvqje8GtnkJ",
    "outputId": "87599199-9b9f-4fc7-80ce-969dff571e8b"
   },
   "outputs": [
    {
     "name": "stdout",
     "output_type": "stream",
     "text": [
      "There are 5 unqiue merchants. They are as follows: \n",
      "Index: 0 ; Merchant Name: ABC Kitchen\n",
      "Index: 1 ; Merchant Name: ChikaLicious Dessert Bar\n",
      "Index: 2 ; Merchant Name: MUD\n",
      "Index: 3 ; Merchant Name: Soba-ya\n",
      "Index: 4 ; Merchant Name: Gramercy Tavern\n"
     ]
    }
   ],
   "source": [
    "numMerchants = len(review_df['Merhcant Name'].unique())\n",
    "merchants = review_df['Merhcant Name'].unique()\n",
    "\n",
    "print(\"There are %d unqiue merchants. They are as follows: \" %numMerchants)\n",
    "\n",
    "for index, merchant in enumerate(merchants):\n",
    "  print('Index: %d ; Merchant Name: %s' %(index, merchant))"
   ]
  },
  {
   "cell_type": "code",
   "execution_count": 9,
   "metadata": {
    "id": "-EcNYi0wupzT"
   },
   "outputs": [],
   "source": [
    "review_df_list = []\n",
    "\n",
    "for merchant in merchants:\n",
    "  temp_df = review_df.loc[review_df['Merhcant Name'] == merchant]\n",
    "  review_df_list.append(temp_df)"
   ]
  },
  {
   "cell_type": "markdown",
   "metadata": {
    "id": "kD97awSF6oV3"
   },
   "source": [
    "## 1.2 Clean the data\n",
    "\n",
    "The following sections are specific to only one merchant. Read output of next cell to find merchant name under evaluation.  "
   ]
  },
  {
   "cell_type": "code",
   "execution_count": 10,
   "metadata": {
    "colab": {
     "base_uri": "https://localhost:8080/"
    },
    "id": "f_m_ujhY1qJo",
    "outputId": "8d54840f-01c1-47b1-e16b-12cff1d7efb4"
   },
   "outputs": [
    {
     "name": "stdout",
     "output_type": "stream",
     "text": [
      "Merchant Name under evaluation: ABC Kitchen\n"
     ]
    }
   ],
   "source": [
    "merchIndex = 0\n",
    "print(\"Merchant Name under evaluation: %s\" %(merchants[merchIndex])) \n",
    "temp_df = review_df_list[merchIndex] #temp_df will be used as data source going forward"
   ]
  },
  {
   "cell_type": "code",
   "execution_count": 11,
   "metadata": {
    "id": "EiOpWdJ76oV6"
   },
   "outputs": [],
   "source": [
    "import re # to replace punctuations\n",
    "from nltk.corpus import stopwords # list of stopwords"
   ]
  },
  {
   "cell_type": "markdown",
   "metadata": {
    "id": "JyQvz05F6oV_"
   },
   "source": [
    "We will now read the data and preprocess it using the following steps:\n",
    "\n",
    "   1. Remove stopwords\n",
    "   2. Lower-case all words\n",
    "   3. Remove words with less than 2 characters\n",
    "   4. Remove punctuation\n",
    "   5. Split each sentence into a list of words"
   ]
  },
  {
   "cell_type": "code",
   "execution_count": 13,
   "metadata": {
    "id": "Z3hEH5W76oWJ"
   },
   "outputs": [],
   "source": [
    "# A function to clean a single line of text\n",
    "def clean_line(line):\n",
    "    \"\"\" Clean stopwords and punction for each line\n",
    "    \n",
    "    Args: \n",
    "        line (string): one line in file\n",
    "        \n",
    "    Returns:\n",
    "        list(str): a list of all words in the sentence\n",
    "    \"\"\"\n",
    "    \n",
    "    stops = stopwords.words('english')\n",
    "    stops.append(\"for\")\n",
    "    #print(stops)\n",
    "\n",
    "    line = line.split(\" \")\n",
    "    filtered_content = []\n",
    "    for word in line:\n",
    "        #lower case words\n",
    "        word_lower = str(word).lower()\n",
    "                   \n",
    "        #remove punctuation; same as keeping only alpha numeric\n",
    "        non_alhpanum = re.compile(r'[\\W]')  #matches any non-alpha num same as [^a-zA-Z0-9_]\n",
    "        word_lower = non_alhpanum.sub(r'', word_lower)  #remove non alpha-num \n",
    "        \n",
    "        #remove stop words\n",
    "        if word_lower in stops:\n",
    "            continue\n",
    "        \n",
    "        #remove words with less than two characters\n",
    "        if len(word_lower) <= 2:\n",
    "            continue     \n",
    "                \n",
    "        filtered_content.append(word_lower)\n",
    "       \n",
    "        \n",
    "    return filtered_content"
   ]
  },
  {
   "cell_type": "markdown",
   "metadata": {
    "id": "b1H8sscA6oWL"
   },
   "source": [
    "Finally, we put these two functions together to read and clean the dataset."
   ]
  },
  {
   "cell_type": "code",
   "execution_count": 14,
   "metadata": {
    "id": "k20nopzW6oWN"
   },
   "outputs": [],
   "source": [
    "def read_dataset(dfname):\n",
    "    \"\"\" Read the review column of the dataframe into list and clean stop words. \n",
    "        \n",
    "    Args: \n",
    "        dfname (string): source data frame name\n",
    "        \n",
    "    Returns:\n",
    "        list of list of words: we view each document as a list, including a list of all words \n",
    "    \"\"\"\n",
    "    count = 0\n",
    "    exp_dataset = []\n",
    "    for line in dfname['Review']:\n",
    "        new_line = clean_line(line)\n",
    "        exp_dataset.append(new_line)\n",
    "\n",
    "    return exp_dataset"
   ]
  },
  {
   "cell_type": "markdown",
   "metadata": {
    "id": "by4KolOj6oWO"
   },
   "source": [
    "Call this function to obtain the data in the cell below."
   ]
  },
  {
   "cell_type": "code",
   "execution_count": 15,
   "metadata": {
    "colab": {
     "base_uri": "https://localhost:8080/"
    },
    "id": "bsSCB9Y36oWT",
    "outputId": "041ab431-92bb-45b0-f0d1-c59bf1dc49cf"
   },
   "outputs": [
    {
     "name": "stdout",
     "output_type": "stream",
     "text": [
      "CPU times: user 212 ms, sys: 6.48 ms, total: 219 ms\n",
      "Wall time: 388 ms\n"
     ]
    }
   ],
   "source": [
    "%%time\n",
    "r = read_dataset(temp_df)"
   ]
  },
  {
   "cell_type": "markdown",
   "metadata": {
    "id": "yh2TAGGy6oWV"
   },
   "source": [
    "## 1.3 Topic analysis using LDA\n",
    "\n",
    "We will now use `gensim` to train an LDA model. `gensim` requires the following steps:\n",
    "\n",
    "   1. Construct a `gensim.corpora.dictionary` from the dataset\n",
    "   2. Construct a `gensim` \"corpus\" using this dictionary, by mapping each word to an index in the dictionary\n",
    "   3. Run LDA on this corpus"
   ]
  },
  {
   "cell_type": "code",
   "execution_count": 16,
   "metadata": {
    "id": "XRcKj-2N6oWZ"
   },
   "outputs": [],
   "source": [
    "import gensim\n",
    "import gensim.corpora as corpora"
   ]
  },
  {
   "cell_type": "code",
   "execution_count": 17,
   "metadata": {
    "id": "MdNvJVr46oWb"
   },
   "outputs": [],
   "source": [
    "dictionary = corpora.Dictionary(r) # create a gensim dictionary, store it in variable \"dictionary\"\n",
    "\n",
    "# create the gensim corpus, store it in variable \"corpus\"\n",
    "texts = r \n",
    "# Term Document Frequency\n",
    "corpus = [dictionary.doc2bow(text) for text in texts]"
   ]
  },
  {
   "cell_type": "code",
   "execution_count": 18,
   "metadata": {
    "colab": {
     "base_uri": "https://localhost:8080/"
    },
    "id": "9HvuXfepcNoc",
    "outputId": "95f6d07f-9718-492e-bb96-0818daecdfcb"
   },
   "outputs": [
    {
     "name": "stdout",
     "output_type": "stream",
     "text": [
      "There are 200 distinct words in the document\n"
     ]
    }
   ],
   "source": [
    "print(\"There are %d distinct words in the document\" %(len(corpus)))"
   ]
  },
  {
   "cell_type": "markdown",
   "metadata": {
    "id": "F46zZf5A6oWc"
   },
   "source": [
    "The function below prints the top `num` words in each topic for a given model."
   ]
  },
  {
   "cell_type": "code",
   "execution_count": 19,
   "metadata": {
    "id": "hVy_EX-V6oWd"
   },
   "outputs": [],
   "source": [
    "def print_topic_words(model,num):\n",
    "    \"\"\" print top words in model topics.\n",
    "    \n",
    "    Args: \n",
    "        model: LDA model\n",
    "        \n",
    "    Returns:\n",
    "        none\n",
    "    \"\"\"    \n",
    "\n",
    "    print(model.print_topics(num_words = num))\n",
    "        \n",
    "    return"
   ]
  },
  {
   "cell_type": "markdown",
   "metadata": {
    "id": "hB_Ovpai6oWe"
   },
   "source": [
    "The following function builds multiple LDA models with number of topics specified in the list `num_topics`."
   ]
  },
  {
   "cell_type": "code",
   "execution_count": 20,
   "metadata": {
    "id": "OAA1YUEh6oWf"
   },
   "outputs": [],
   "source": [
    "def build_num_topic_model(dictionary, corpus, num_topics):\n",
    "    \"\"\" Build lda model with given parameters, use print_topic_words to print words\n",
    "    \n",
    "    Args: \n",
    "        dictionary: dictionary built from dataset\n",
    "        corpus: corpus built from dataset\n",
    "        num_topics: list of numbers\n",
    "        \n",
    "    Returns:\n",
    "        none\n",
    "    \"\"\"    \n",
    "    for num_topic in num_topics:\n",
    "\n",
    "        \n",
    "        lda_model = gensim.models.ldamodel.LdaModel(corpus=corpus,\n",
    "                                           id2word=dictionary,\n",
    "                                           num_topics=num_topic, \n",
    "                                           random_state=100,\n",
    "                                           update_every=1,\n",
    "                                           chunksize=100,\n",
    "                                           passes=10,\n",
    "                                           alpha='auto',\n",
    "                                           per_word_topics=False)\n",
    "        \n",
    "        print(\"No. of topics: %s\" %(num_topic))\n",
    "        for topic_num in range(num_topic):\n",
    "            print('\\tTopic Number: %s' %(topic_num))\n",
    "            print(\"\\t\\t\" + str(lda_model.print_topic(topic_num, topn = 5).split(' + ')))\n",
    "            #print_topic_words(lda_model,5)\n",
    "        print('\\n-------------\\n')"
   ]
  },
  {
   "cell_type": "code",
   "execution_count": 21,
   "metadata": {
    "colab": {
     "base_uri": "https://localhost:8080/"
    },
    "id": "o-xx7YzR6oWg",
    "outputId": "37dbb256-a5dd-494d-fa0f-d54623af07ab"
   },
   "outputs": [
    {
     "name": "stdout",
     "output_type": "stream",
     "text": [
      "No. of topics: 3\n",
      "\tTopic Number: 0\n",
      "\t\t['0.014*\"good\"', '0.011*\"food\"', '0.010*\"great\"', '0.008*\"service\"', '0.007*\"delicious\"']\n",
      "\tTopic Number: 1\n",
      "\t\t['0.010*\"restaurant\"', '0.010*\"abc\"', '0.009*\"food\"', '0.008*\"good\"', '0.007*\"table\"']\n",
      "\tTopic Number: 2\n",
      "\t\t['0.007*\"pizza\"', '0.007*\"restaurant\"', '0.005*\"great\"', '0.005*\"one\"', '0.005*\"place\"']\n",
      "\n",
      "-------------\n",
      "\n",
      "No. of topics: 6\n",
      "\tTopic Number: 0\n",
      "\t\t['0.022*\"good\"', '0.017*\"food\"', '0.011*\"would\"', '0.010*\"amazing\"', '0.010*\"service\"']\n",
      "\tTopic Number: 1\n",
      "\t\t['0.014*\"restaurant\"', '0.012*\"food\"', '0.010*\"table\"', '0.009*\"like\"', '0.008*\"service\"']\n",
      "\tTopic Number: 2\n",
      "\t\t['0.007*\"food\"', '0.007*\"great\"', '0.007*\"would\"', '0.006*\"texture\"', '0.006*\"good\"']\n",
      "\tTopic Number: 3\n",
      "\t\t['0.007*\"love\"', '0.006*\"reservation\"', '0.006*\"chocolate\"', '0.006*\"delicious\"', '0.005*\"pizza\"']\n",
      "\tTopic Number: 4\n",
      "\t\t['0.012*\"good\"', '0.011*\"great\"', '0.009*\"abc\"', '0.009*\"delicious\"', '0.008*\"toast\"']\n",
      "\tTopic Number: 5\n",
      "\t\t['0.009*\"place\"', '0.007*\"scrambled\"', '0.007*\"couple\"', '0.005*\"server\"', '0.005*\"croutons\"']\n",
      "\n",
      "-------------\n",
      "\n",
      "No. of topics: 9\n",
      "\tTopic Number: 0\n",
      "\t\t['0.026*\"food\"', '0.019*\"amazing\"', '0.018*\"good\"', '0.011*\"service\"', '0.008*\"restaurant\"']\n",
      "\tTopic Number: 1\n",
      "\t\t['0.017*\"restaurant\"', '0.016*\"table\"', '0.013*\"food\"', '0.009*\"service\"', '0.008*\"good\"']\n",
      "\tTopic Number: 2\n",
      "\t\t['0.009*\"much\"', '0.008*\"slamming\"', '0.006*\"one\"', '0.006*\"pita\"', '0.006*\"hate\"']\n",
      "\tTopic Number: 3\n",
      "\t\t['0.009*\"chocolate\"', '0.008*\"presentation\"', '0.008*\"pizza\"', '0.006*\"complete\"', '0.006*\"strawberry\"']\n",
      "\tTopic Number: 4\n",
      "\t\t['0.014*\"good\"', '0.013*\"great\"', '0.012*\"food\"', '0.009*\"salad\"', '0.009*\"abc\"']\n",
      "\tTopic Number: 5\n",
      "\t\t['0.009*\"bad\"', '0.008*\"champagne\"', '0.008*\"tasting\"', '0.007*\"service\"', '0.007*\"without\"']\n",
      "\tTopic Number: 6\n",
      "\t\t['0.010*\"good\"', '0.009*\"would\"', '0.008*\"also\"', '0.008*\"great\"', '0.007*\"delicious\"']\n",
      "\tTopic Number: 7\n",
      "\t\t['0.015*\"eggs\"', '0.014*\"saturday\"', '0.014*\"good\"', '0.014*\"brunch\"', '0.009*\"food\"']\n",
      "\tTopic Number: 8\n",
      "\t\t['0.010*\"ordered\"', '0.010*\"good\"', '0.009*\"food\"', '0.009*\"restaurant\"', '0.008*\"place\"']\n",
      "\n",
      "-------------\n",
      "\n",
      "No. of topics: 12\n",
      "\tTopic Number: 0\n",
      "\t\t['0.031*\"good\"', '0.014*\"amazing\"', '0.013*\"toast\"', '0.009*\"service\"', '0.008*\"cream\"']\n",
      "\tTopic Number: 1\n",
      "\t\t['0.020*\"restaurant\"', '0.019*\"table\"', '0.011*\"minutes\"', '0.010*\"time\"', '0.010*\"food\"']\n",
      "\tTopic Number: 2\n",
      "\t\t['0.012*\"hate\"', '0.009*\"slamming\"', '0.008*\"true\"', '0.006*\"one\"', '0.006*\"visited\"']\n",
      "\tTopic Number: 3\n",
      "\t\t['0.016*\"theres\"', '0.010*\"abc\"', '0.008*\"chocolate\"', '0.008*\"cocina\"', '0.007*\"muy\"']\n",
      "\tTopic Number: 4\n",
      "\t\t['0.011*\"abc\"', '0.011*\"like\"', '0.010*\"delicious\"', '0.010*\"great\"', '0.010*\"pizza\"']\n",
      "\tTopic Number: 5\n",
      "\t\t['0.015*\"cake\"', '0.011*\"paired\"', '0.011*\"place\"', '0.009*\"server\"', '0.007*\"pick\"']\n",
      "\tTopic Number: 6\n",
      "\t\t['0.011*\"get\"', '0.010*\"really\"', '0.010*\"would\"', '0.009*\"dish\"', '0.009*\"bread\"']\n",
      "\tTopic Number: 7\n",
      "\t\t['0.017*\"brunch\"', '0.016*\"eggs\"', '0.016*\"saturday\"', '0.015*\"great\"', '0.010*\"food\"']\n",
      "\tTopic Number: 8\n",
      "\t\t['0.015*\"good\"', '0.013*\"food\"', '0.012*\"great\"', '0.011*\"texture\"', '0.010*\"restaurant\"']\n",
      "\tTopic Number: 9\n",
      "\t\t['0.011*\"three\"', '0.010*\"restaurants\"', '0.010*\"square\"', '0.010*\"union\"', '0.010*\"less\"']\n",
      "\tTopic Number: 10\n",
      "\t\t['0.013*\"chic\"', '0.012*\"food\"', '0.010*\"beef\"', '0.010*\"disappointed\"', '0.009*\"sashimi\"']\n",
      "\tTopic Number: 11\n",
      "\t\t['0.024*\"good\"', '0.013*\"food\"', '0.013*\"would\"', '0.012*\"restaurant\"', '0.011*\"ordered\"']\n",
      "\n",
      "-------------\n",
      "\n",
      "No. of topics: 15\n",
      "\tTopic Number: 0\n",
      "\t\t['0.021*\"good\"', '0.012*\"amazing\"', '0.012*\"menu\"', '0.011*\"food\"', '0.010*\"relaxed\"']\n",
      "\tTopic Number: 1\n",
      "\t\t['0.023*\"filling\"', '0.010*\"light\"', '0.008*\"visited\"', '0.008*\"construction\"', '0.008*\"mild\"']\n",
      "\tTopic Number: 2\n",
      "\t\t['0.026*\"texture\"', '0.013*\"union\"', '0.013*\"square\"', '0.012*\"three\"', '0.012*\"makes\"']\n",
      "\tTopic Number: 3\n",
      "\t\t['0.016*\"chocolate\"', '0.011*\"pizza\"', '0.009*\"muy\"', '0.008*\"pudding\"', '0.007*\"crust\"']\n",
      "\tTopic Number: 4\n",
      "\t\t['0.013*\"highly\"', '0.012*\"pizza\"', '0.012*\"small\"', '0.010*\"kitchen\"', '0.010*\"one\"']\n",
      "\tTopic Number: 5\n",
      "\t\t['0.023*\"server\"', '0.018*\"wine\"', '0.016*\"comes\"', '0.013*\"city\"', '0.013*\"champagne\"']\n",
      "\tTopic Number: 6\n",
      "\t\t['0.015*\"bread\"', '0.012*\"delicious\"', '0.011*\"didnt\"', '0.010*\"although\"', '0.009*\"ingredients\"']\n",
      "\tTopic Number: 7\n",
      "\t\t['0.021*\"brunch\"', '0.018*\"eggs\"', '0.016*\"saturday\"', '0.016*\"great\"', '0.015*\"still\"']\n",
      "\tTopic Number: 8\n",
      "\t\t['0.026*\"presentation\"', '0.022*\"strawberry\"', '0.014*\"crab\"', '0.013*\"burnt\"', '0.013*\"croutons\"']\n",
      "\tTopic Number: 9\n",
      "\t\t['0.024*\"overly\"', '0.011*\"mediocre\"', '0.008*\"great\"', '0.007*\"hungry\"', '0.007*\"rude\"']\n",
      "\tTopic Number: 10\n",
      "\t\t['0.016*\"boyfriend\"', '0.015*\"crispy\"', '0.013*\"tuna\"', '0.011*\"food\"', '0.011*\"dinner\"']\n",
      "\tTopic Number: 11\n",
      "\t\t['0.025*\"good\"', '0.014*\"restaurant\"', '0.013*\"ordered\"', '0.012*\"would\"', '0.012*\"delicious\"']\n",
      "\tTopic Number: 12\n",
      "\t\t['0.011*\"liked\"', '0.011*\"bill\"', '0.011*\"pizza\"', '0.010*\"waiter\"', '0.010*\"checked\"']\n",
      "\tTopic Number: 13\n",
      "\t\t['0.027*\"food\"', '0.020*\"restaurant\"', '0.015*\"good\"', '0.015*\"table\"', '0.013*\"service\"']\n",
      "\tTopic Number: 14\n",
      "\t\t['0.016*\"abc\"', '0.016*\"good\"', '0.013*\"food\"', '0.011*\"kitchen\"', '0.011*\"great\"']\n",
      "\n",
      "-------------\n",
      "\n"
     ]
    }
   ],
   "source": [
    "build_num_topic_model(dictionary, corpus, [3, 6, 9, 12, 15])"
   ]
  },
  {
   "cell_type": "markdown",
   "metadata": {
    "id": "kIFvOpGi6oWh"
   },
   "source": [
    "Each topic in models with number of topics as 3 and 6 seems to be overlapping with one another. Models with number of topics as 12 or higher seem to have too many topics to make sense. \n",
    "\n",
    "We choose nine as the optimal number of topics, because nine topics seem to capture the different themes (including negative opinions) appropriately without being too similar to one another. Additionally, for 8 out of the 9 topics, their top 5 words are able to explain each reasonably well.  "
   ]
  },
  {
   "cell_type": "markdown",
   "metadata": {
    "id": "vDE-_C2A6oWi"
   },
   "source": [
    "##  1.4 Topic Model Evaluation with quantitative metrics - coherence and perplexitiy\n",
    "\n",
    "We have seen how to visually evaluate a topic model by looking at the top-words in each topic. Now we take a more quantitative view, and quantify the usefulness of each topic model as measured by its (1) \"coherence\" (to what extent is the topic focused on a single, narrow theme), and (2) \"perplexity\", which is the likelihood of the observed data under the given model, or how surprised the model is when looking at the words of a test set."
   ]
  },
  {
   "cell_type": "code",
   "execution_count": 22,
   "metadata": {
    "id": "Qo_BJRsC6oWi"
   },
   "outputs": [],
   "source": [
    "from gensim.models.coherencemodel import CoherenceModel"
   ]
  },
  {
   "cell_type": "markdown",
   "metadata": {
    "id": "oW-Go3Tt6oWo"
   },
   "source": [
    "The code below trains topic models with different numbers of topics and measures their coherence and perplexity."
   ]
  },
  {
   "cell_type": "code",
   "execution_count": 23,
   "metadata": {
    "id": "wcKNBZWj6oWr"
   },
   "outputs": [],
   "source": [
    "# perplexity \n",
    "# run different number of topics to get perplexity and coherence value for this model\n",
    "def get_measurement_for_model(dictionary, corpus, topic_nums):\n",
    "    \"\"\" Build lda model with given parameters \n",
    "    \n",
    "    Args: \n",
    "        dictionary: dictionary built from dataset\n",
    "        corpus: corpus built from dataset\n",
    "        topic_nums: a list contains all possible topic number\n",
    "        \n",
    "    Returns:\n",
    "        2 lists: one of perplexities, and one of coherence value\n",
    "    \"\"\"  \n",
    "    perplexity = []\n",
    "    coherence_value=[]\n",
    "    for num_topic in topic_nums:\n",
    "        #########################\n",
    "        # YOUR CODE HERE\n",
    "        #   - Build model\n",
    "        #   - Compute and store coherence\n",
    "        #   - Compute and store perplexity\n",
    "        #########################\n",
    "        lda_model = gensim.models.ldamodel.LdaModel(corpus=corpus,\n",
    "                                           id2word=dictionary,\n",
    "                                           num_topics=num_topic, \n",
    "                                           random_state=100,\n",
    "                                           update_every=1,\n",
    "                                           chunksize=100,\n",
    "                                           passes=10,\n",
    "                                           alpha='auto',\n",
    "                                           per_word_topics=False)\n",
    "        \n",
    "        perplexity.append(lda_model.log_perplexity(corpus))\n",
    "        \n",
    "        # Compute Coherence Score\n",
    "        coherence_model_lda = CoherenceModel(model=lda_model, texts=texts, dictionary=dictionary, coherence='c_v')\n",
    "        coherence_lda = coherence_model_lda.get_coherence()\n",
    "        \n",
    "        coherence_value.append(coherence_lda)     \n",
    "        \n",
    "    return perplexity,coherence_value"
   ]
  },
  {
   "cell_type": "code",
   "execution_count": 24,
   "metadata": {
    "id": "cWOCJc5L6oWs"
   },
   "outputs": [],
   "source": [
    "perplexity, coherence = get_measurement_for_model(dictionary, corpus, [3, 6, 9, 12, 15, 20, 50])"
   ]
  },
  {
   "cell_type": "markdown",
   "metadata": {
    "id": "eD_uRMuA6oWs"
   },
   "source": [
    "We can now plot the coherence and perplexity of each model."
   ]
  },
  {
   "cell_type": "code",
   "execution_count": 25,
   "metadata": {
    "id": "teZp8OSA6oWt"
   },
   "outputs": [],
   "source": [
    "import matplotlib.pyplot as plt"
   ]
  },
  {
   "cell_type": "code",
   "execution_count": 26,
   "metadata": {
    "colab": {
     "base_uri": "https://localhost:8080/",
     "height": 279
    },
    "id": "GhObYnXf6oWt",
    "outputId": "f853fcf7-f68a-4a54-dd67-e87c6311a8c9"
   },
   "outputs": [
    {
     "data": {
      "image/png": "[encoded data removed]",
      "text/plain": [
       "<Figure size 432x288 with 1 Axes>"
      ]
     },
     "metadata": {
      "needs_background": "light"
     },
     "output_type": "display_data"
    }
   ],
   "source": [
    "plt.plot([3, 6, 9, 12, 15, 20, 50], perplexity)\n",
    "plt.grid()\n",
    "plt.xlabel(\"Number of topics\")\n",
    "plt.ylabel(\"Perplexity\")\n",
    "plt.show()"
   ]
  },
  {
   "cell_type": "markdown",
   "metadata": {
    "id": "Y2TisB_56oWu"
   },
   "source": [
    "It is clear from the above graph that the perplexity goes down as the number of topics increases. It suggests that having a higher number of topics is better, however as we have seen during our heuristic analysis, going beyond 9 topics may not yield better results. In fact we do see a slight downward bend near topic 9, so we may be safe in going with 9 as our optimal number of topics. "
   ]
  },
  {
   "cell_type": "code",
   "execution_count": 27,
   "metadata": {
    "colab": {
     "base_uri": "https://localhost:8080/",
     "height": 279
    },
    "id": "1nF1VG2d6oWu",
    "outputId": "f346c2d2-4eae-48d7-b560-343fe58be9c4"
   },
   "outputs": [
    {
     "data": {
      "image/png": "[encoded data removed]",
      "text/plain": [
       "<Figure size 432x288 with 1 Axes>"
      ]
     },
     "metadata": {
      "needs_background": "light"
     },
     "output_type": "display_data"
    }
   ],
   "source": [
    "plt.plot([3, 6, 9, 12, 15, 20, 50], coherence)\n",
    "plt.grid()\n",
    "plt.xlabel(\"Number of topics\")\n",
    "plt.ylabel(\"Coherence\")\n",
    "plt.show()"
   ]
  },
  {
   "cell_type": "markdown",
   "metadata": {
    "id": "r7X2lN056oWv"
   },
   "source": [
    "Based on the plot above, the coherence score peaks at around topics 3 and 12. However, as we have seen during our heuristic analysis that neither of these topic numbers is ideal. In fact, we see that the coherence score at our chosen topic number of 9 is at 0.30, which is not too less than that for topic number 12 at 0.34 . So, that gives us confidence in pursuing 9 topics. "
   ]
  },
  {
   "cell_type": "markdown",
   "metadata": {
    "id": "tEW095lb6oWw"
   },
   "source": [
    "Picking the optimal number of topics based on low perplexity score may not produce human-interpretable topics. On the other hand, the coherence score, which measures the semantic similarity between high scoring words in the topic, is a better measure of the topics’ interpretation. This hypothesis is further validated in the present example, where we see that even as the perplexity plunges with increase in topics, the coherence score, although increasing slightly, never goes out of control with more topics."
   ]
  },
  {
   "cell_type": "markdown",
   "metadata": {
    "id": "NAkD_sBI6oWx"
   },
   "source": [
    "## 1.5 Choose best Alpha and Beta in LDA model "
   ]
  },
  {
   "cell_type": "markdown",
   "metadata": {
    "id": "Xa8vKQsq6oWx"
   },
   "source": [
    "We will check the two most important parameters in LDA model: alpha and beta. Alpha represents document-topic density - with a higher alpha, documents are made up of more topics, and with lower alpha, documents contain fewer topics. Beta represents topic-word density - with a high beta, topics are made up of most of the words in the corpus, and with a low beta they consist of few words."
   ]
  },
  {
   "cell_type": "code",
   "execution_count": 28,
   "metadata": {
    "id": "0x1xWMlK6oWx"
   },
   "outputs": [],
   "source": [
    "best_topic_num = 9 # CHANGE THIS"
   ]
  },
  {
   "cell_type": "code",
   "execution_count": 29,
   "metadata": {
    "colab": {
     "base_uri": "https://localhost:8080/"
    },
    "id": "6bZvaqt66oWy",
    "outputId": "5afbb0d6-b183-4cf3-8b99-2af78abeded9"
   },
   "outputs": [
    {
     "name": "stdout",
     "output_type": "stream",
     "text": [
      "Topic Number: 0\n",
      "\t['0.025*\"food\"', '0.019*\"amazing\"', '0.018*\"good\"', '0.011*\"service\"', '0.008*\"restaurant\"', '0.007*\"tuna\"', '0.007*\"sashimi\"', '0.006*\"menu\"', '0.006*\"ordered\"', '0.006*\"dark\"']\n",
      "Topic Number: 1\n",
      "\t['0.017*\"restaurant\"', '0.015*\"table\"', '0.013*\"food\"', '0.009*\"service\"', '0.009*\"good\"', '0.008*\"check\"', '0.008*\"time\"', '0.008*\"like\"', '0.007*\"minutes\"', '0.007*\"order\"']\n",
      "Topic Number: 2\n",
      "\t['0.008*\"much\"', '0.008*\"slamming\"', '0.006*\"one\"', '0.006*\"even\"', '0.006*\"hate\"', '0.006*\"pita\"', '0.005*\"think\"', '0.005*\"kinda\"', '0.005*\"suggestions\"', '0.005*\"tip\"']\n",
      "Topic Number: 3\n",
      "\t['0.009*\"chocolate\"', '0.008*\"presentation\"', '0.008*\"pizza\"', '0.006*\"complete\"', '0.006*\"strawberry\"', '0.005*\"delicious\"', '0.005*\"restaurant\"', '0.005*\"reservation\"', '0.005*\"pesto\"', '0.005*\"got\"']\n",
      "Topic Number: 4\n",
      "\t['0.015*\"good\"', '0.013*\"great\"', '0.011*\"food\"', '0.009*\"salad\"', '0.009*\"abc\"', '0.009*\"delicious\"', '0.009*\"ordered\"', '0.008*\"service\"', '0.008*\"restaurant\"', '0.007*\"pizza\"']\n",
      "Topic Number: 5\n",
      "\t['0.009*\"bad\"', '0.008*\"champagne\"', '0.008*\"service\"', '0.007*\"tasting\"', '0.007*\"without\"', '0.007*\"server\"', '0.006*\"literally\"', '0.006*\"place\"', '0.006*\"128\"', '0.005*\"expectations\"']\n",
      "Topic Number: 6\n",
      "\t['0.010*\"good\"', '0.009*\"would\"', '0.008*\"also\"', '0.007*\"restaurant\"', '0.007*\"delicious\"', '0.007*\"abc\"', '0.007*\"great\"', '0.006*\"get\"', '0.006*\"dish\"', '0.006*\"toast\"']\n",
      "Topic Number: 7\n",
      "\t['0.015*\"eggs\"', '0.014*\"good\"', '0.014*\"saturday\"', '0.014*\"brunch\"', '0.009*\"food\"', '0.009*\"great\"', '0.009*\"year\"', '0.007*\"well\"', '0.007*\"lemon\"', '0.007*\"service\"']\n",
      "Topic Number: 8\n",
      "\t['0.010*\"ordered\"', '0.010*\"good\"', '0.009*\"food\"', '0.009*\"restaurant\"', '0.008*\"place\"', '0.008*\"great\"', '0.008*\"texture\"', '0.008*\"service\"', '0.008*\"dining\"', '0.007*\"taste\"']\n"
     ]
    }
   ],
   "source": [
    "#model 1\n",
    "\n",
    "#########################\n",
    "#   - Build model for alpha = 1/num_topic = eta\n",
    "#   - Print top words\n",
    "#########################\n",
    "\n",
    "model1 = gensim.models.ldamodel.LdaModel(corpus=corpus,\n",
    "                                   id2word=dictionary,\n",
    "                                   num_topics=best_topic_num, \n",
    "                                   random_state=100,\n",
    "                                   update_every=1,\n",
    "                                   chunksize=100,\n",
    "                                   passes=10,\n",
    "                                   alpha=[1/best_topic_num]*best_topic_num,\n",
    "                                   eta = 1/best_topic_num, \n",
    "                                   per_word_topics=False)\n",
    "\n",
    "for topic_num in range(best_topic_num):\n",
    "    print('Topic Number: %s' %(topic_num))\n",
    "    print(\"\\t\" + str(model1.print_topic(topic_num, topn = 10).split(' + ')))"
   ]
  },
  {
   "cell_type": "code",
   "execution_count": 30,
   "metadata": {
    "colab": {
     "base_uri": "https://localhost:8080/"
    },
    "id": "zsqQvXRf6oW2",
    "outputId": "d6361bb4-0a25-4e31-d870-6bb5d3bce25b"
   },
   "outputs": [
    {
     "name": "stdout",
     "output_type": "stream",
     "text": [
      "Topic Number: 0\n",
      "\t['0.020*\"food\"', '0.020*\"good\"', '0.014*\"amazing\"', '0.007*\"service\"', '0.007*\"sashimi\"', '0.006*\"tuna\"', '0.006*\"restaurant\"', '0.004*\"definitely\"', '0.004*\"saturday\"', '0.004*\"come\"']\n",
      "Topic Number: 1\n",
      "\t['0.014*\"restaurant\"', '0.012*\"food\"', '0.011*\"table\"', '0.007*\"time\"', '0.007*\"service\"', '0.007*\"back\"', '0.007*\"good\"', '0.007*\"like\"', '0.007*\"check\"', '0.006*\"dining\"']\n",
      "Topic Number: 2\n",
      "\t['0.005*\"slamming\"', '0.003*\"much\"', '0.003*\"even\"', '0.003*\"one\"', '0.003*\"hostess\"', '0.002*\"second\"', '0.002*\"make\"', '0.002*\"need\"', '0.002*\"couldnt\"', '0.002*\"think\"']\n",
      "Topic Number: 3\n",
      "\t['0.008*\"chocolate\"', '0.007*\"pizza\"', '0.004*\"restaurant\"', '0.004*\"herbs\"', '0.004*\"moment\"', '0.004*\"pesto\"', '0.003*\"nice\"', '0.003*\"brussel\"', '0.003*\"crust\"', '0.003*\"goat\"']\n",
      "Topic Number: 4\n",
      "\t['0.012*\"good\"', '0.010*\"great\"', '0.010*\"abc\"', '0.009*\"food\"', '0.009*\"delicious\"', '0.008*\"salad\"', '0.008*\"restaurant\"', '0.007*\"service\"', '0.007*\"kitchen\"', '0.007*\"pizza\"']\n",
      "Topic Number: 5\n",
      "\t['0.008*\"cake\"', '0.005*\"place\"', '0.004*\"128\"', '0.004*\"decent\"', '0.003*\"server\"', '0.003*\"literally\"', '0.003*\"bad\"', '0.003*\"def\"', '0.003*\"pick\"', '0.003*\"crudo\"']\n",
      "Topic Number: 6\n",
      "\t['0.009*\"would\"', '0.009*\"good\"', '0.009*\"great\"', '0.008*\"delicious\"', '0.007*\"restaurant\"', '0.007*\"also\"', '0.007*\"chicken\"', '0.007*\"dish\"', '0.006*\"abc\"', '0.006*\"get\"']\n",
      "Topic Number: 7\n",
      "\t['0.017*\"brunch\"', '0.012*\"lemon\"', '0.011*\"eggs\"', '0.009*\"still\"', '0.007*\"year\"', '0.007*\"toast\"', '0.007*\"reservations\"', '0.006*\"really\"', '0.006*\"well\"', '0.006*\"great\"']\n",
      "Topic Number: 8\n",
      "\t['0.012*\"good\"', '0.008*\"food\"', '0.007*\"ordered\"', '0.007*\"place\"', '0.006*\"great\"', '0.005*\"expectations\"', '0.005*\"restaurant\"', '0.005*\"ambience\"', '0.005*\"dining\"', '0.005*\"get\"']\n"
     ]
    }
   ],
   "source": [
    "#model 2\n",
    "\n",
    "#########################\n",
    "#   - Build model for alpha = 1/2, eta = 1/5\n",
    "#   - Print top words\n",
    "#########################\n",
    "\n",
    "model2 = gensim.models.ldamodel.LdaModel(corpus=corpus,\n",
    "                                   id2word=dictionary,\n",
    "                                   num_topics=best_topic_num, \n",
    "                                   random_state=100,\n",
    "                                   update_every=1,\n",
    "                                   chunksize=100,\n",
    "                                   passes=10,\n",
    "                                   alpha=[1/2]*best_topic_num,\n",
    "                                   eta = 1/5, \n",
    "                                   per_word_topics=False)\n",
    "\n",
    "for topic_num in range(best_topic_num):\n",
    "    print('Topic Number: %s' %(topic_num))\n",
    "    print(\"\\t\" + str(model2.print_topic(topic_num, topn = 10).split(' + ')))"
   ]
  },
  {
   "cell_type": "code",
   "execution_count": 31,
   "metadata": {
    "colab": {
     "base_uri": "https://localhost:8080/"
    },
    "id": "JSvF3IIv6oW-",
    "outputId": "8223daf7-ece7-4bfb-86db-68645d946b14"
   },
   "outputs": [
    {
     "name": "stdout",
     "output_type": "stream",
     "text": [
      "Topic Number: 0\n",
      "\t['0.026*\"food\"', '0.019*\"amazing\"', '0.018*\"good\"', '0.011*\"service\"', '0.008*\"restaurant\"', '0.007*\"tuna\"', '0.007*\"sashimi\"', '0.006*\"menu\"', '0.006*\"ordered\"', '0.006*\"dark\"']\n",
      "Topic Number: 1\n",
      "\t['0.017*\"restaurant\"', '0.016*\"table\"', '0.013*\"food\"', '0.009*\"service\"', '0.008*\"good\"', '0.008*\"time\"', '0.008*\"check\"', '0.008*\"minutes\"', '0.007*\"like\"', '0.007*\"order\"']\n",
      "Topic Number: 2\n",
      "\t['0.009*\"much\"', '0.008*\"slamming\"', '0.006*\"one\"', '0.006*\"pita\"', '0.006*\"hate\"', '0.005*\"even\"', '0.005*\"kinda\"', '0.005*\"suggestions\"', '0.005*\"tip\"', '0.004*\"think\"']\n",
      "Topic Number: 3\n",
      "\t['0.009*\"chocolate\"', '0.008*\"presentation\"', '0.008*\"pizza\"', '0.006*\"complete\"', '0.006*\"strawberry\"', '0.005*\"delicious\"', '0.005*\"restaurant\"', '0.005*\"pesto\"', '0.005*\"reservation\"', '0.005*\"make\"']\n",
      "Topic Number: 4\n",
      "\t['0.014*\"good\"', '0.013*\"great\"', '0.012*\"food\"', '0.009*\"salad\"', '0.009*\"abc\"', '0.008*\"ordered\"', '0.008*\"delicious\"', '0.008*\"service\"', '0.008*\"restaurant\"', '0.007*\"pizza\"']\n",
      "Topic Number: 5\n",
      "\t['0.009*\"bad\"', '0.008*\"champagne\"', '0.008*\"tasting\"', '0.007*\"service\"', '0.007*\"without\"', '0.007*\"server\"', '0.006*\"literally\"', '0.006*\"128\"', '0.006*\"place\"', '0.005*\"expectations\"']\n",
      "Topic Number: 6\n",
      "\t['0.010*\"good\"', '0.009*\"would\"', '0.008*\"also\"', '0.008*\"great\"', '0.007*\"delicious\"', '0.007*\"abc\"', '0.007*\"restaurant\"', '0.006*\"get\"', '0.006*\"one\"', '0.006*\"dish\"']\n",
      "Topic Number: 7\n",
      "\t['0.015*\"eggs\"', '0.014*\"saturday\"', '0.014*\"good\"', '0.014*\"brunch\"', '0.009*\"food\"', '0.009*\"great\"', '0.009*\"year\"', '0.007*\"well\"', '0.007*\"lemon\"', '0.007*\"service\"']\n",
      "Topic Number: 8\n",
      "\t['0.010*\"ordered\"', '0.010*\"good\"', '0.009*\"food\"', '0.009*\"restaurant\"', '0.008*\"place\"', '0.008*\"great\"', '0.008*\"texture\"', '0.008*\"dining\"', '0.008*\"service\"', '0.007*\"taste\"']\n"
     ]
    }
   ],
   "source": [
    "#model 3\n",
    " \n",
    "#########################\n",
    "#   - Build model for alpha = 'auto' = eta\n",
    "#   - Print top words\n",
    "#########################\n",
    "\n",
    "model3 = gensim.models.ldamodel.LdaModel(corpus=corpus,\n",
    "                                   id2word=dictionary,\n",
    "                                   num_topics=best_topic_num, \n",
    "                                   random_state=100,\n",
    "                                   update_every=1,\n",
    "                                   chunksize=100,\n",
    "                                   passes=10,\n",
    "                                   alpha='auto',\n",
    "                                   eta = 'auto', \n",
    "                                   per_word_topics=False)\n",
    "\n",
    "for topic_num in range(best_topic_num):\n",
    "    print('Topic Number: %s' %(topic_num))\n",
    "    print(\"\\t\" + str(model3.print_topic(topic_num, topn = 10).split(' + ')))"
   ]
  },
  {
   "cell_type": "markdown",
   "metadata": {
    "id": "_6lO2kY26oW_"
   },
   "source": [
    "As we increase beta from 0.11 (model 1) to 0.2 (model 2), the interpretability of the topics goes down. With a beta value of 0.2, we are not able to see the negative topics. However, we get best results when we set the beta value to ‘auto’, which allows the model to learn the a-priori belief from the data. Each topic is easily interpretable and distinct from one another. "
   ]
  },
  {
   "cell_type": "markdown",
   "metadata": {
    "id": "BD-wPTXj6oXF"
   },
   "source": [
    "## 1.7 LDA visualization and Final Conclusions\n",
    "\n",
    "We will now visualize the LDA output using pyLDAvis. PyLDAVis shows the following:\n",
    "\n",
    "   1. The distances between topics, as a map in 2-D space.\n",
    "   2. The variance in the topic-word distribution, as the size of a circle in this map.\n",
    "   3. The most \"relevant\" terms in each topic.\n",
    "   4. The overall \"salient\" terms in the document."
   ]
  },
  {
   "cell_type": "code",
   "execution_count": 33,
   "metadata": {
    "colab": {
     "base_uri": "https://localhost:8080/"
    },
    "id": "vQQrtvAw6oXL",
    "outputId": "d8009628-d721-4711-f0db-a7b33908bd4e"
   },
   "outputs": [
    {
     "name": "stdout",
     "output_type": "stream",
     "text": [
      "CPU times: user 10.5 ms, sys: 1.98 ms, total: 12.5 ms\n",
      "Wall time: 12.9 ms\n"
     ]
    }
   ],
   "source": [
    "%%time\n",
    "import pyLDAvis.gensim\n",
    "import pyLDAvis.sklearn\n",
    "from sklearn.decomposition import LatentDirichletAllocation\n",
    "from sklearn.feature_extraction.text import CountVectorizer, TfidfTransformer, TfidfVectorizer"
   ]
  },
  {
   "cell_type": "code",
   "execution_count": 34,
   "metadata": {
    "id": "q3aIZBXT6oXM"
   },
   "outputs": [],
   "source": [
    "import warnings\n",
    "warnings.filterwarnings('ignore')"
   ]
  },
  {
   "cell_type": "code",
   "execution_count": 35,
   "metadata": {
    "colab": {
     "base_uri": "https://localhost:8080/"
    },
    "id": "aBPLEt5P6oXN",
    "outputId": "a77fce2e-0005-4284-b041-ad774a7b5d8e"
   },
   "outputs": [
    {
     "name": "stdout",
     "output_type": "stream",
     "text": [
      "Topic Number: 1\n",
      "\t['0.026*\"food\"', '0.019*\"amazing\"', '0.018*\"good\"', '0.011*\"service\"', '0.008*\"restaurant\"', '0.007*\"tuna\"', '0.007*\"sashimi\"', '0.006*\"menu\"', '0.006*\"ordered\"', '0.006*\"dark\"']\n",
      "Topic Number: 2\n",
      "\t['0.017*\"restaurant\"', '0.016*\"table\"', '0.013*\"food\"', '0.009*\"service\"', '0.008*\"good\"', '0.008*\"time\"', '0.008*\"check\"', '0.008*\"minutes\"', '0.007*\"like\"', '0.007*\"order\"']\n",
      "Topic Number: 3\n",
      "\t['0.009*\"much\"', '0.008*\"slamming\"', '0.006*\"one\"', '0.006*\"pita\"', '0.006*\"hate\"', '0.005*\"even\"', '0.005*\"kinda\"', '0.005*\"suggestions\"', '0.005*\"tip\"', '0.004*\"think\"']\n",
      "Topic Number: 4\n",
      "\t['0.009*\"chocolate\"', '0.008*\"presentation\"', '0.008*\"pizza\"', '0.006*\"complete\"', '0.006*\"strawberry\"', '0.005*\"delicious\"', '0.005*\"restaurant\"', '0.005*\"pesto\"', '0.005*\"reservation\"', '0.005*\"make\"']\n",
      "Topic Number: 5\n",
      "\t['0.014*\"good\"', '0.013*\"great\"', '0.012*\"food\"', '0.009*\"salad\"', '0.009*\"abc\"', '0.008*\"ordered\"', '0.008*\"delicious\"', '0.008*\"service\"', '0.008*\"restaurant\"', '0.007*\"pizza\"']\n",
      "Topic Number: 6\n",
      "\t['0.009*\"bad\"', '0.008*\"champagne\"', '0.008*\"tasting\"', '0.007*\"service\"', '0.007*\"without\"', '0.007*\"server\"', '0.006*\"literally\"', '0.006*\"128\"', '0.006*\"place\"', '0.005*\"expectations\"']\n",
      "Topic Number: 7\n",
      "\t['0.010*\"good\"', '0.009*\"would\"', '0.008*\"also\"', '0.008*\"great\"', '0.007*\"delicious\"', '0.007*\"abc\"', '0.007*\"restaurant\"', '0.006*\"get\"', '0.006*\"one\"', '0.006*\"dish\"']\n",
      "Topic Number: 8\n",
      "\t['0.015*\"eggs\"', '0.014*\"saturday\"', '0.014*\"good\"', '0.014*\"brunch\"', '0.009*\"food\"', '0.009*\"great\"', '0.009*\"year\"', '0.007*\"well\"', '0.007*\"lemon\"', '0.007*\"service\"']\n",
      "Topic Number: 9\n",
      "\t['0.010*\"ordered\"', '0.010*\"good\"', '0.009*\"food\"', '0.009*\"restaurant\"', '0.008*\"place\"', '0.008*\"great\"', '0.008*\"texture\"', '0.008*\"dining\"', '0.008*\"service\"', '0.007*\"taste\"']\n"
     ]
    }
   ],
   "source": [
    "#train gensim LDA model with best_topic_num topics\n",
    "model_viz = gensim.models.ldamodel.LdaModel(corpus=corpus,\n",
    "                                   id2word=dictionary,\n",
    "                                   num_topics=best_topic_num, \n",
    "                                   random_state=100,\n",
    "                                   update_every=1,\n",
    "                                   chunksize=100,\n",
    "                                   passes=10,\n",
    "                                   alpha='auto',\n",
    "                                   eta = 'auto', \n",
    "                                   per_word_topics=False)\n",
    "\n",
    "for topic_num in range(best_topic_num):\n",
    "    print('Topic Number: %s' %(topic_num+1))\n",
    "    print(\"\\t\" + str(model_viz.print_topic(topic_num, topn = 10).split(' + ')))"
   ]
  },
  {
   "cell_type": "code",
   "execution_count": 36,
   "metadata": {
    "colab": {
     "base_uri": "https://localhost:8080/",
     "height": 861
    },
    "id": "3-Z-JwWL6oXP",
    "outputId": "cada7e54-9983-4dce-b485-6fc7e5100f6c"
   },
   "outputs": [
    {
     "data": {
      "text/html": [
       "\n",
       "<link rel=\"stylesheet\" type=\"text/css\" href=\"https://cdn.jsdelivr.net/gh/bmabey/pyLDAvis@3.2.2/pyLDAvis/js/ldavis.v1.0.0.css\">\n",
       "\n",
       "\n",
       "<div id=\"ldavis_el651406923521452324072230283\"></div>\n",
       "<script type=\"text/javascript\">\n",
       "\n",
       "var ldavis_el651406923521452324072230283_data = {\"mdsDat\": {\"x\": [111.0925064086914, 34.94661331176758, -28.088212966918945, 147.6980743408203, -97.50118255615234, 30.312095642089844, -155.44366455078125, -204.24810791015625, -79.40467834472656], \"y\": [-133.7229461669922, 107.06459045410156, -159.94903564453125, 21.369604110717773, 126.98138427734375, -32.794944763183594, -118.49468994140625, 22.59613037109375, -6.864717483520508], \"topics\": [1, 2, 3, 4, 5, 6, 7, 8, 9], \"cluster\": [1, 1, 1, 1, 1, 1, 1, 1, 1], \"Freq\": [5.905180857722241, 11.721976583813024, 1.187840307381523, 3.767991349419317, 26.770984521635803, 1.1672745897240424, 36.51644620668406, 5.6097254688182385, 7.352580114801745]}, \"tinfo\": {\"Term\": [\"food\", \"good\", \"amazing\", \"service\", \"restaurant\", \"table\", \"chocolate\", \"one\", \"ordered\", \"brunch\", \"place\", \"pizza\", \"server\", \"even\", \"much\", \"great\", \"eggs\", \"saturday\", \"toast\", \"though\", \"bad\", \"got\", \"salad\", \"delicious\", \"lemon\", \"think\", \"experience\", \"get\", \"tuna\", \"minutes\", \"dark\", \"bolognese\", \"incredibly\", \"knowledgeable\", \"prior\", \"found\", \"muy\", \"six\", \"deco\", \"que\", \"board\", \"personal\", \"designed\", \"ideal\", \"por\", \"comida\", \"buena\", \"change\", \"paper\", \"patrons\", \"915\", \"roast\", \"depending\", \"weekend\", \"meh\", \"strozzapreti\", \"four\", \"delight\", \"sold\", \"bachelorette\", \"truly\", \"tastes\", \"find\", \"plan\", \"amazing\", \"sashimi\", \"food\", \"market\", \"tuna\", \"good\", \"surprised\", \"drinking\", \"covid\", \"extremely\", \"service\", \"comes\", \"menu\", \"restaurant\", \"ordered\", \"absolutely\", \"drink\", \"though\", \"come\", \"delicious\", \"ambiance\", \"going\", \"abc\", \"definitely\", \"soup\", \"wait\", \"dish\", \"really\", \"would\", \"experience\", \"lunch\", \"someone\", \"sides\", \"feeling\", \"checked\", \"hear\", \"apologized\", \"seemed\", \"least\", \"flag\", \"trying\", \"pinot\", \"rushed\", \"glasses\", \"terrible\", \"along\", \"older\", \"management\", \"response\", \"mistake\", \"true\", \"poor\", \"reputation\", \"responsible\", \"horrible\", \"cherry\", \"runners\", \"hoped\", \"mentioned\", \"pay\", \"explain\", \"leave\", \"decided\", \"waited\", \"check\", \"minutes\", \"entrees\", \"table\", \"stars\", \"couple\", \"order\", \"server\", \"another\", \"restaurant\", \"week\", \"looked\", \"later\", \"arrived\", \"take\", \"food\", \"sure\", \"time\", \"fine\", \"service\", \"said\", \"even\", \"like\", \"never\", \"back\", \"good\", \"dining\", \"menu\", \"would\", \"made\", \"many\", \"came\", \"waiter\", \"reservation\", \"didnt\", \"slamming\", \"pita\", \"kinda\", \"suggestions\", \"acoustic\", \"adjust\", \"bothered\", \"complains\", \"friendsecondly\", \"gigantic\", \"nicer\", \"pitas\", \"speak\", \"veryyy\", \"warming\", \"jittery\", \"prevent\", \"draftstoppers\", \"deigning\", \"chattedup\", \"administrators\", \"shawl\", \"existed\", \"focus\", \"smashing\", \"charges\", \"recognize\", \"shut\", \"sporadic\", \"oversight\", \"tip\", \"hate\", \"card\", \"much\", \"usually\", \"hostess\", \"gave\", \"second\", \"one\", \"think\", \"hey\", \"even\", \"review\", \"couldnt\", \"would\", \"restaurant\", \"complete\", \"thin\", \"pudding\", \"daughter\", \"met\", \"smile\", \"min\", \"bacon\", \"superb\", \"basic\", \"combinations\", \"strawberries\", \"brussels\", \"worthy\", \"michelin\", \"mayo\", \"cause\", \"constantly\", \"fettuccini\", \"shortbread\", \"layer\", \"presentation\", \"didit\", \"distinct\", \"experiencethank\", \"insisting\", \"outstandingi\", \"perfectwe\", \"theyve\", \"timeeverything\", \"goat\", \"strawberry\", \"champagne\", \"brussel\", \"sprouts\", \"balls\", \"pesto\", \"chocolate\", \"pizza\", \"make\", \"crust\", \"best\", \"delicious\", \"reservation\", \"got\", \"love\", \"nice\", \"place\", \"cheese\", \"restaurant\", \"like\", \"definitely\", \"spinach\", \"made\", \"back\", \"bar\", \"reviews\", \"ginger\", \"finish\", \"soon\", \"evening\", \"theres\", \"size\", \"vinaigrette\", \"disappointed\", \"chop\", \"paired\", \"honestly\", \"always\", \"professional\", \"orange\", \"cut\", \"list\", \"jeangeorges\", \"kale\", \"pea\", \"chose\", \"vanilla\", \"coming\", \"blood\", \"basil\", \"set\", \"creative\", \"mind\", \"attention\", \"addition\", \"feel\", \"squash\", \"margarita\", \"mushroom\", \"salad\", \"small\", \"highly\", \"served\", \"ive\", \"fish\", \"pizza\", \"great\", \"wine\", \"burger\", \"good\", \"ordered\", \"flavorful\", \"food\", \"abc\", \"nice\", \"delicious\", \"kitchen\", \"salmon\", \"service\", \"recommend\", \"sea\", \"like\", \"got\", \"toast\", \"would\", \"restaurant\", \"still\", \"dish\", \"place\", \"one\", \"meal\", \"time\", \"menu\", \"crab\", \"tasting\", \"128\", \"def\", \"attitude\", \"match\", \"gets\", \"champagne\", \"strange\", \"braised\", \"fulfilled\", \"gravy\", \"root\", \"unsure\", \"irritating\", \"scallop\", \"disorganized\", \"prix\", \"peoples\", \"claimed\", \"esp\", \"mixture\", \"permission\", \"talking\", \"complained\", \"soooo\", \"annoyed\", \"thereduring\", \"directed\", \"losing\", \"die\", \"bad\", \"pandemic\", \"upscale\", \"shavings\", \"without\", \"hype\", \"vegetables\", \"literally\", \"decent\", \"expectations\", \"used\", \"server\", \"thanks\", \"barely\", \"service\", \"place\", \"servers\", \"point\", \"ordering\", \"hard\", \"serving\", \"something\", \"course\", \"sauce\", \"ordered\", \"able\", \"vibe\", \"shared\", \"group\", \"seat\", \"friend\", \"boyfriend\", \"crispy\", \"bland\", \"pretzel\", \"seating\", \"juicy\", \"style\", \"family\", \"balanced\", \"simple\", \"chic\", \"romantic\", \"beyond\", \"opted\", \"hot\", \"end\", \"cocktail\", \"lights\", \"airy\", \"mushrooms\", \"mashed\", \"housemade\", \"yummy\", \"chairs\", \"modern\", \"potatoes\", \"together\", \"space\", \"wasnt\", \"tasted\", \"actually\", \"cooked\", \"get\", \"fried\", \"chicken\", \"also\", \"try\", \"cake\", \"something\", \"super\", \"ravioli\", \"butter\", \"decor\", \"dishes\", \"sauce\", \"would\", \"two\", \"dish\", \"right\", \"fresh\", \"definitely\", \"one\", \"reservation\", \"delicious\", \"abc\", \"dinner\", \"flavor\", \"toast\", \"chocolate\", \"kitchen\", \"crab\", \"well\", \"came\", \"good\", \"great\", \"really\", \"restaurant\", \"like\", \"time\", \"recommend\", \"back\", \"ordered\", \"food\", \"saturday\", \"year\", \"scrambled\", \"eggs\", \"oysters\", \"filling\", \"bill\", \"half\", \"pancakes\", \"curd\", \"buttermilk\", \"exquisite\", \"situation\", \"straight\", \"line\", \"included\", \"turmeric\", \"staple\", \"asparagus\", \"rhubarb\", \"squeezed\", \"prices\", \"trendy\", \"mins\", \"mood\", \"gorgeous\", \"associated\", \"several\", \"bottom\", \"cuisine\", \"however\", \"reservations\", \"thick\", \"brunch\", \"average\", \"biscuits\", \"hour\", \"filled\", \"portion\", \"customer\", \"sizes\", \"good\", \"lemon\", \"last\", \"home\", \"well\", \"though\", \"great\", \"food\", \"toast\", \"came\", \"service\", \"also\", \"still\", \"really\", \"back\", \"place\", \"texture\", \"tell\", \"girlfriend\", \"grilled\", \"burnt\", \"croutons\", \"meet\", \"nonetheless\", \"expectations\", \"nearby\", \"cabbage\", \"zero\", \"cotta\", \"hopes\", \"panna\", \"seasonal\", \"visits\", \"seed\", \"wont\", \"short\", \"disappoints\", \"tied\", \"dipped\", \"sent\", \"asking\", \"crunch\", \"overpowered\", \"mustard\", \"decent\", \"subtle\", \"fell\", \"sprouts\", \"glad\", \"entrance\", \"miss\", \"ambience\", \"keep\", \"impressed\", \"take\", \"taste\", \"avocado\", \"dining\", \"ordered\", \"place\", \"experience\", \"love\", \"carrot\", \"food\", \"good\", \"ive\", \"restaurant\", \"salad\", \"service\", \"best\", \"great\", \"get\", \"beautiful\", \"crab\", \"back\", \"really\", \"definitely\", \"flavor\", \"could\", \"salmon\", \"come\", \"toast\", \"like\"], \"Freq\": [103.0, 125.0, 34.0, 71.0, 93.0, 45.0, 25.0, 48.0, 61.0, 19.0, 48.0, 41.0, 18.0, 23.0, 17.0, 88.0, 10.0, 9.0, 51.0, 24.0, 7.0, 30.0, 43.0, 68.0, 25.0, 13.0, 26.0, 37.0, 18.0, 18.0, 3.8790688543469996, 2.2578860468940576, 2.2570833806516584, 2.2547209861615496, 2.2545824316217784, 3.0691163849839302, 2.0179949336070275, 2.0138367139334403, 1.6981187389048513, 1.6981187389048513, 1.6979124114016266, 1.6977675229400373, 1.695287950896294, 1.6914847475406116, 1.4527098296259773, 1.452709671277932, 1.452709354581841, 1.4526681840900233, 1.4526303389071602, 1.452050310016667, 1.451889745098578, 1.4512522358675854, 1.4515173104956733, 1.4505917661700023, 1.4506579556530017, 1.4502332661950976, 1.4487438444795697, 1.4488424953118868, 1.4476783204817187, 1.206900616488199, 2.261838572456602, 2.901479959881092, 2.2453385477723877, 2.257835058823422, 12.798309757823375, 4.613961183204593, 17.421056723981863, 2.0383860448121505, 4.631232521218206, 11.947045866882158, 2.510103288735215, 2.117199350690947, 2.336523744790447, 3.082611122113498, 7.160548653352331, 2.2897870024789992, 4.333678492135448, 5.123359878111848, 4.283309562357407, 2.8681375620383953, 2.4459743888514724, 3.1130212308505025, 2.8558285350731767, 3.3193493674675203, 2.7669091402375, 2.6360840436090904, 3.1277437987245107, 2.908078322935105, 2.6222445827845724, 2.619595419984149, 2.730644587564019, 2.6842961146600213, 2.711575682538426, 2.570582899563455, 2.4133765435184937, 5.8277605818130755, 5.5409537918072775, 4.294264130421462, 4.293357299812479, 3.625941601664108, 3.6271404411589647, 3.42345999986065, 3.3377473765428674, 2.9603725689673057, 2.9595210597403607, 2.951535292512691, 2.670856917197827, 2.6708122829009553, 2.6703829135380883, 2.669679137547269, 2.6695238604863203, 2.3809282410192663, 2.3805185170335434, 2.3800779890964585, 2.3727853107744417, 3.5407080112226126, 2.0034882107915855, 2.0035059702125237, 2.0033818114289716, 2.0031668124215036, 2.002903407204752, 2.002728484766659, 2.002728484766659, 2.002728484766659, 2.001303330527099, 5.48021782950177, 4.275689033423936, 3.215566961050518, 10.332921450628533, 10.264405290321793, 5.6575800662733755, 20.97094786702416, 7.758383145798163, 4.425985912685279, 9.478234387476945, 9.370463306049418, 6.896156029735557, 22.838288427825834, 6.575992332316755, 4.967322923863794, 5.264896952174867, 6.264069634865482, 5.21229480465919, 17.242114466963113, 6.5548042429960125, 10.357240227250998, 4.699064198816571, 12.046107723075814, 6.5568404470462704, 7.0315173931506445, 10.057085267872209, 6.19465827401303, 8.44205672941913, 11.46591844242646, 6.985056862019342, 7.526028312019954, 8.391713643112034, 6.486863299332061, 5.582347387265509, 6.2906389858936045, 5.59843647965768, 5.625537041683786, 5.600194819493608, 1.0665734546480394, 0.7746111411557376, 0.6628408516217038, 0.6605645121081956, 0.4046882286117087, 0.4046882286117087, 0.4046882286117087, 0.4046882286117087, 0.4046882286117087, 0.4046882286117087, 0.4046882286117087, 0.4046882286117087, 0.4046882286117087, 0.4046882286117087, 0.4046882286117087, 0.29279448048261775, 0.2927947034470567, 0.2927943849264297, 0.29279362047692464, 0.2927929834356705, 0.29279279232329425, 0.292792601210918, 0.2927926330629807, 0.292792378246479, 0.2927922508382282, 0.29279209157791464, 0.2927919323176011, 0.29279161379697405, 0.292791072311908, 0.2927911997201588, 0.6493728439467714, 0.774412830213316, 0.49740585646410856, 1.177252619921939, 0.4034962607210403, 0.5507315924363289, 0.5750615357195294, 0.4429177750195386, 0.8506429704022288, 0.5993207674235177, 0.3663599089574205, 0.6737817166413631, 0.38195420107844263, 0.3605042894532599, 0.4364904746938902, 0.37020588626912904, 2.7645916104587562, 1.8160312325725396, 1.5972846466120922, 1.5301839846094554, 1.5287887358967582, 1.5287887358967582, 1.309350638444552, 1.3092799110856637, 1.3085811247798476, 1.3082500197011664, 1.3078696075494318, 1.3070949408914372, 1.306778991675375, 1.305879339670316, 1.3056627118739499, 1.30406487979758, 1.3041463172993857, 1.2958681851369356, 1.0878487166599862, 1.0878383096343212, 1.087761216813133, 3.4981779997076248, 0.799335400903609, 0.799335400903609, 0.799335400903609, 0.799335400903609, 0.799335400903609, 0.799335400903609, 0.799335400903609, 0.799335400903609, 1.5973618404723646, 2.489307190428381, 1.3071975966009093, 2.0238474104122273, 1.7071711171005923, 1.0878447761357053, 2.125219721437759, 3.7525685475315673, 3.439715573163263, 2.1066972365357652, 1.7665293561648157, 2.021558268922267, 2.3673776694247244, 2.122517936328227, 2.00962050113277, 1.8743641270110516, 2.044154245539888, 2.0648870614462234, 1.7611548852019812, 2.1697082405693147, 1.871046811801024, 1.785452359996285, 1.5475438127704102, 1.7330916837422978, 1.7366141082931013, 1.543899130927814, 8.13348427742631, 8.133548167568316, 7.088875430557526, 6.04448266158474, 6.045181145946224, 6.03084103946627, 5.728347419203784, 5.314557171566491, 5.957678930334761, 5.289056031571464, 5.000546455873932, 5.00104680900852, 12.878578563156807, 4.68541515016259, 4.685173229063084, 4.684961817301052, 4.369693040104382, 4.366695228497439, 9.85374860481304, 4.267664431587677, 4.05137081662655, 4.242275278807852, 7.7869635295872905, 3.641068324662708, 3.6410769390638773, 3.6406386814043854, 3.6403142056270057, 3.640197193344455, 3.6396379751352095, 3.639139775600914, 6.791109321870118, 13.275507197305194, 5.940411004257365, 11.585451421219172, 27.52434983980405, 11.154116150933536, 15.625856105157107, 9.44380073903067, 14.950858908461854, 12.218052124692578, 22.69693705436576, 39.39973257184708, 11.402396832103465, 10.763562891517251, 44.60448197170754, 26.142553948763265, 9.672598516222529, 35.62212239931595, 26.976003004834485, 19.203748565243906, 25.973249379647406, 20.437237490019186, 15.277208318096015, 24.894295633183088, 15.900958442234652, 12.704579145403642, 20.94253385514479, 14.300786045816663, 18.09910380302545, 21.163730141171442, 23.537363775384176, 13.841100063415846, 15.434553226921722, 15.842278577202393, 15.619637943246346, 13.456507251742005, 13.831288260483927, 13.744143542520993, 13.54522409791835, 1.011156196501999, 0.7928270007378843, 0.6497465537630221, 0.6487839353927162, 0.648351987239298, 0.6467706813906976, 1.1209052077153947, 0.6486986725833024, 0.2870524912794428, 0.2870524912794428, 0.2870524912794428, 0.2870524912794428, 0.2870524912794428, 0.28705433801430164, 0.2870537120024851, 0.28705261648180613, 0.28705227217530704, 0.28705227217530704, 0.2870523034758979, 0.2870514270593547, 0.2870510514522648, 0.2870508636487198, 0.28705033153867576, 0.28704895431267935, 0.28704889171149767, 0.28701668340353625, 0.28701665210294547, 0.2870143045586334, 0.2870125830261379, 0.28691417396857655, 1.271486465674954, 0.5398923099632646, 0.39665611124844535, 0.3942095005664214, 0.9461183264524617, 0.6497546293154556, 0.6492769196982477, 0.826933814735327, 0.5399564761744607, 0.6691248121454488, 0.5147472307267972, 0.884259970419172, 0.5399346283620633, 0.3962975942811083, 0.9968220909325899, 0.7644573346343778, 0.5192712303214451, 0.512777609748392, 0.394891446538778, 0.4593243387688032, 0.35533748462141485, 0.4623211512363912, 0.43781904873670036, 0.44954534558132436, 0.40134860192351707, 9.543087161289693, 8.472535192792948, 7.604051314714967, 8.646568027220882, 7.048334690293057, 24.648642893339318, 6.322502490413954, 12.284143226425318, 5.897952597192337, 5.8976490475658085, 5.571361106028721, 5.474643340670116, 5.473820329505284, 5.470128284773581, 5.458182627777313, 5.2464459921574225, 5.149832021187242, 5.149805093397792, 5.14582320773237, 5.141684161695793, 10.48131009727424, 7.38827795865841, 4.821948975322362, 4.8200542381374145, 4.8204087057658125, 4.4941677654612215, 4.776300986646434, 4.388447795291338, 4.462939852833944, 4.170212260086691, 7.776793084037809, 9.703210568476186, 8.928138702404674, 7.656317664441576, 9.776103604921625, 9.405043562259998, 7.7552533004585325, 11.843349021818844, 25.86430627120217, 11.028797099644008, 20.60789601775584, 34.91049836094108, 19.693749463116777, 17.796137369447507, 9.673046548330277, 14.993135638268367, 14.6344574827921, 9.164362000962033, 16.879386163174356, 17.534230834908747, 15.327339860307632, 36.386830574220326, 15.365228728852538, 24.902792266131744, 13.984652714050437, 19.570173430964402, 22.339249085013357, 25.491061650421877, 21.526450896325986, 31.186390955136606, 31.003626662580412, 21.641425702931805, 18.76398283221193, 24.74458024240004, 15.983874618027151, 24.005701283734243, 21.906263939347433, 20.42171826068971, 22.984511380472863, 40.15285524587145, 31.99319256991151, 23.552129598235577, 30.839588444404036, 23.234704816196974, 18.79549911698441, 17.33043349081111, 17.827690863529046, 18.115720291411503, 17.980626998913202, 9.20221715123234, 5.53320920234074, 4.283965848329375, 9.446951419347974, 3.7374975261114356, 3.697824938582059, 3.326721318797792, 2.948623520631485, 2.7226126993330544, 2.413827305205013, 2.403983167608714, 2.1780255968941455, 2.17795805589936, 2.177151625447147, 2.15774404401016, 1.940288064391982, 1.6339711507192336, 1.632303384551785, 1.6311520287074943, 1.6197257169839092, 1.6148984161739885, 3.544245140261512, 1.397798192575114, 1.3977532153870498, 1.3977842030149468, 1.3972929137299386, 1.397150160046083, 1.3970889369171795, 1.3969195579413929, 1.3915719357484826, 4.1899755593055765, 4.15375553505529, 2.7211580859264317, 8.969617397520581, 2.4416841297067977, 2.3866824440179695, 2.13189269064975, 2.3045554524412557, 4.293618945695435, 2.030602859726285, 2.0011315196409134, 9.167790197489493, 4.664247221284776, 3.9123546933192612, 3.4138218246519796, 4.767935735288076, 4.104237907377346, 5.6815551000542515, 5.838292928763489, 4.34276111162954, 4.0886005876180835, 4.415699669833271, 3.623707647115215, 3.2470157245330133, 3.277477164457308, 3.2114091349747858, 2.850209221236562, 6.8178544324387715, 3.9271659793031803, 3.3179389628739266, 3.3166526896724857, 3.0547300842835488, 3.0501624737290145, 2.444265493224399, 2.4406127060381486, 4.758643023930393, 2.177250239645207, 1.913514154656814, 1.8328760236263215, 1.8321792594488395, 1.8321792594488395, 1.8321792594488395, 1.5684625947410011, 1.5685201655219363, 1.5683741683874075, 1.5684477091452458, 1.5676566038079096, 1.5660913489111836, 1.5659718698247225, 1.5660137663690674, 1.5656018001130265, 1.565606039057513, 1.5644595524440277, 1.560258758457746, 4.905497411046712, 2.444129452680408, 1.3032078832452352, 2.536454846561148, 3.1877057728301206, 2.444293095653614, 2.1788983018295798, 2.4011378805364783, 4.288653307115241, 2.4424393953715864, 2.479141359698354, 4.048001133679745, 5.580769154180239, 3.2922332148659765, 6.452972794474044, 8.786878452369358, 6.972308951279362, 5.013030954784342, 4.54699903199827, 3.363834310571324, 7.900797887947684, 8.188192803657492, 4.512664764617564, 7.347795048228257, 5.555291717693943, 6.431003232420616, 4.547905968958207, 6.834810210385418, 4.96472197181226, 4.324416591688474, 5.065057590651329, 5.1855567840323, 5.123562122334771, 4.422137471840003, 4.27901729907612, 3.8927291886139597, 3.951950989136586, 3.8238788721401424, 3.9714962692640605, 3.98852933401251], \"Total\": [103.0, 125.0, 34.0, 71.0, 93.0, 45.0, 25.0, 48.0, 61.0, 19.0, 48.0, 41.0, 18.0, 23.0, 17.0, 88.0, 10.0, 9.0, 51.0, 24.0, 7.0, 30.0, 43.0, 68.0, 25.0, 13.0, 26.0, 37.0, 18.0, 18.0, 4.467144378918111, 2.843510960553957, 2.8431150789370365, 2.8410206822613064, 2.8410462321664767, 3.9144529020699785, 2.6022198915721617, 2.60162688520071, 2.2823825653341308, 2.2823825653341308, 2.2823199194114983, 2.282250684163787, 2.2805996951059093, 2.2780361658463937, 2.0369339313843877, 2.0369338740754266, 2.036933696308076, 2.0369026512915025, 2.036909050216953, 2.036507193173444, 2.036436376501511, 2.035811723713756, 2.036450713991557, 2.0355231490589016, 2.035648522195655, 2.0352805068395647, 2.0337933500643235, 2.0339866344651107, 2.0328996886670145, 1.7911225441950869, 3.357309243527707, 4.463955157081053, 3.390295424319386, 3.515473321254326, 34.89152624892887, 11.203023183017612, 103.19675765974497, 3.8424032550157308, 18.325901127590075, 125.6658475833089, 5.990695310950113, 4.2944668735130636, 5.433264378994448, 9.75487942967391, 71.13711679952577, 6.477672770778325, 45.84521765262818, 93.38758401048821, 61.002473152864965, 15.881049336250232, 9.366471683340023, 24.619792811176385, 22.194386154367233, 68.54716357029562, 22.9672821590857, 17.15895325893468, 68.73768510722421, 39.691011238163824, 18.05590023389514, 22.3818085422354, 44.58197701270971, 51.5045229457253, 72.8293584103244, 26.021099435224414, 27.577762798858203, 6.400871980116082, 6.112831415247605, 4.865038573532011, 4.864772188856853, 4.197033701477817, 4.198466240430199, 3.9955709603833007, 3.908526394010704, 3.530984969259322, 3.5306977969570137, 3.5303791315193913, 3.241414417868024, 3.241548775832131, 3.2412196258256665, 3.2405158158828336, 3.2403838325470544, 2.951538267234975, 2.951498279783872, 2.951245348898183, 2.94510036502425, 4.397318364207555, 2.5740568718066545, 2.5740826473393583, 2.5740012938240353, 2.5740183667052072, 2.5737014134766367, 2.5736734425003833, 2.5736734425003833, 2.5736734425003833, 2.5727008222851953, 7.182275554867484, 5.873289221776817, 4.429823560964242, 18.651921361904236, 18.514399053214433, 9.070072396344276, 45.8300158793452, 14.169147038193769, 6.997510036983574, 18.85222951500031, 18.572182490149366, 14.503803351337847, 93.38758401048821, 15.442930829506, 9.60219225203916, 10.653949359831703, 14.680932536563505, 10.720484668041092, 103.19675765974497, 17.009086554772118, 44.83534923126556, 8.96534697857348, 71.13711679952577, 19.11640377137176, 23.723592021937264, 61.97659948782067, 17.975368736619135, 48.609139667528, 125.6658475833089, 28.426737019838026, 45.84521765262818, 72.8293584103244, 30.588835579836243, 16.718964770447084, 46.93612447886618, 18.883407954436308, 38.36405774728431, 27.738705246081732, 1.6925853804168185, 1.4008207480413315, 1.2887730669509323, 1.2877158735737038, 1.0307069654034136, 1.0307069654034136, 1.0307069654034136, 1.0307069654034136, 1.0307069654034136, 1.0307069654034136, 1.0307069654034136, 1.0307069654034136, 1.0307069654034136, 1.0307069654034136, 1.0307069654034136, 0.9186311116510161, 0.9186318976217402, 0.9186318590864362, 0.918632416515502, 0.9186338864011775, 0.9186336774165836, 0.9186333520475156, 0.918633924909391, 0.918634406857733, 0.9186341062044071, 0.9186344131525943, 0.9186341956220427, 0.9186347890138035, 0.9186356939373843, 0.9186362306229227, 2.9339323904157686, 3.980643372656984, 2.568987969681523, 17.101605607972935, 1.9876271718447847, 5.489513417511215, 9.35421329902425, 3.9419681611279067, 48.98133443398768, 13.827847448037131, 2.142388571894808, 23.723592021937264, 5.932636485541469, 7.624031910804504, 72.8293584103244, 93.38758401048821, 3.3587756607903163, 2.408775531815575, 2.1891984652518572, 2.122563417648884, 2.1226799240305723, 2.1226799240305723, 1.9012029428844284, 1.9011253035447457, 1.9007115889159967, 1.900440531939023, 1.90000505743457, 1.89974984140367, 1.8995914820388053, 1.8988727434532413, 1.8988205400626108, 1.8971163540194442, 1.8980154025487916, 1.8943923651987105, 1.6796878230890944, 1.6796772072434996, 1.6796428305185862, 5.838968245369474, 1.3914029557710181, 1.3914029557710181, 1.3914029557710181, 1.3914029557710181, 1.3914029557710181, 1.3914029557710181, 1.3914029557710181, 1.3914029557710181, 2.937690870734701, 5.165392298004699, 2.9881826541845267, 6.302436019250421, 5.404842813256529, 2.4281132777302306, 8.245174954544513, 25.263381663908092, 41.22313970185327, 14.910986724621115, 9.739931952230268, 25.532119794738524, 68.54716357029562, 38.36405774728431, 30.34179658194039, 21.20220611999204, 41.9005496490105, 48.79425245153205, 16.931326555468196, 93.38758401048821, 61.97659948782067, 39.691011238163824, 9.509051007856593, 30.588835579836243, 48.609139667528, 22.73946015725735, 8.696210872287077, 8.696320274130745, 7.651811011277351, 6.607382218513109, 6.608202353271048, 6.604006751661262, 6.291115303748838, 5.879178125554711, 6.6098479421265415, 5.874833501556332, 5.56315421580961, 5.564355375268922, 14.34737822671306, 5.24791061285574, 5.247783247528264, 5.2478413249840585, 4.932045996897913, 4.930856308497175, 11.14717339438504, 4.834350367191897, 4.614989391560523, 4.836523636125466, 8.881072434980506, 4.203702718294038, 4.203750572324338, 4.203477383390918, 4.203135675194815, 4.203206478915625, 4.202644438348067, 4.202895970913622, 8.147353931738508, 16.681325555179082, 7.099124637832846, 15.309005317944463, 43.25502947681832, 15.329171118489388, 23.474965849208978, 13.22873254952909, 24.07091444206485, 18.606372094316445, 41.22313970185327, 88.58410660665258, 17.731553422462547, 16.73869622860316, 125.6658475833089, 61.002473152864965, 14.661376298171392, 103.19675765974497, 68.73768510722421, 41.9005496490105, 68.54716357029562, 49.237369914762034, 31.16268112266875, 71.13711679952577, 34.63899532700977, 24.341578215291168, 61.97659948782067, 30.34179658194039, 51.47861053028756, 72.8293584103244, 93.38758401048821, 30.163925728735446, 44.58197701270971, 48.79425245153205, 48.98133443398768, 30.76261341483759, 44.83534923126556, 45.84521765262818, 42.43186347970475, 1.6384042855162824, 1.4193847006558316, 1.2764126654550414, 1.2759791334328365, 1.275581406945993, 1.2756696831470196, 2.9881826541845267, 2.0560400770606826, 0.9135395188840825, 0.9135395188840825, 0.9135395188840825, 0.9135395188840825, 0.9135395188840825, 0.9135582857300093, 0.9135592591915815, 0.9135609267941084, 0.9135610439115536, 0.9135612667574461, 0.9135614462587804, 0.9135620212249003, 0.9135624663661885, 0.9135626516097055, 0.9135633779206687, 0.913564979949273, 0.9135650387951725, 0.9135776784470451, 0.9135779638968162, 0.91358143104166, 0.9135824298668737, 0.9134793693697767, 7.842087951010823, 2.3871665524396937, 1.5314329318160556, 1.5307317686776285, 6.984899638664827, 3.8243596201516836, 4.213807580354534, 7.08572863461611, 3.528111251854834, 5.972142976203529, 3.7173316922050645, 18.572182490149366, 5.739666246055246, 2.6053416183092404, 71.13711679952577, 48.79425245153205, 10.990214013799937, 11.988464450170392, 4.089400537904101, 9.078989126679993, 2.6033525621610094, 12.132297261904302, 17.067758027408697, 22.579664006286464, 61.002473152864965, 10.10636117615988, 9.032497206579949, 8.182851212775674, 9.320951875744413, 7.62891963164048, 26.68551712493997, 6.882432391461431, 13.398006028061346, 6.458109264050397, 6.458061156621678, 6.132615742272435, 6.034400157740039, 6.034030473544626, 6.033455586211485, 6.029562877482419, 5.806674023610224, 5.709351791392909, 5.709470543295597, 5.706643684315206, 5.707407853022429, 11.687144862238863, 8.246083432443042, 5.382935783025944, 5.383060506331648, 5.3834589229902186, 5.055709561675225, 5.378379289523719, 4.9586893326790396, 5.051327796511455, 4.730450027644557, 8.91732266202635, 11.238478480822259, 10.405859589938096, 8.942856210858121, 11.946153184543505, 11.522201148514116, 9.24229840767885, 15.096894301003994, 37.556239498986244, 13.919814347414002, 29.05930518445432, 55.19482954086771, 28.290795064117184, 25.65970004852614, 12.132297261904302, 20.939261276139298, 20.378314961675315, 11.457424171408086, 25.568962940402784, 26.94628330007161, 22.579664006286464, 72.8293584103244, 23.007957654554048, 44.58197701270971, 20.233153159573117, 32.442409577078635, 39.691011238163824, 48.98133443398768, 38.36405774728431, 68.54716357029562, 68.73768510722421, 40.02880278886879, 32.36596435197467, 51.47861053028756, 25.263381663908092, 49.237369914762034, 42.43186347970475, 38.18595658011301, 46.93612447886618, 125.6658475833089, 88.58410660665258, 51.5045229457253, 93.38758401048821, 61.97659948782067, 44.83534923126556, 34.63899532700977, 48.609139667528, 61.002473152864965, 103.19675765974497, 9.78984257330333, 6.124614292442564, 4.871080213211361, 10.911009078386918, 4.325299461908244, 4.333518743256772, 3.9271715697167697, 3.538690918790991, 3.3098209741775397, 3.001787808976083, 3.004016593680075, 2.765284499076448, 2.7658425748171998, 2.765254509720684, 2.75071950728988, 2.528049498582898, 2.221335148466918, 2.2214996273731, 2.2209534140963507, 2.2214419344813097, 2.2275917459024246, 4.898313410107578, 1.984961254545256, 1.984983803229627, 1.985203408274795, 1.984702411804991, 1.9847463869499888, 1.9847698029685206, 1.984677151201356, 1.979983840416162, 6.367594509991809, 6.812097248880824, 4.3286055648952475, 19.69631534443623, 4.03883778844481, 4.08610461817029, 3.5317505860369183, 4.081172929654331, 11.702175792440713, 3.5703090477305905, 3.553026896037182, 125.6658475833089, 25.93077021767247, 17.46034733765679, 14.43480506214878, 38.18595658011301, 24.619792811176385, 88.58410660665258, 103.19675765974497, 51.47861053028756, 46.93612447886618, 71.13711679952577, 55.19482954086771, 30.163925728735446, 51.5045229457253, 48.609139667528, 48.79425245153205, 7.3970797081744335, 4.506283366609008, 3.896538136124366, 3.8954731857372606, 3.632889266592381, 3.62979475268285, 3.022427883709848, 3.019743305148035, 5.972142976203529, 2.755911507749758, 2.491719516650317, 2.4116076672843345, 2.4115893807754616, 2.4115893807754616, 2.4115893807754616, 2.146648695229378, 2.1467396184643923, 2.1465512561091598, 2.1466797953810572, 2.1461499987828425, 2.144806109058771, 2.1446820105069437, 2.1450100723931307, 2.144504616559188, 2.144517456949207, 2.143460038155922, 2.1407615801057207, 6.859219723743788, 3.528111251854834, 1.8813271113858523, 3.767553825430439, 5.404842813256529, 3.83176320151774, 3.3222430905787217, 3.9811985520459094, 9.49238380483419, 4.398079022629487, 4.641930006379937, 10.720484668041092, 19.51403414181466, 8.172553607514523, 28.426737019838026, 61.002473152864965, 48.79425245153205, 26.021099435224414, 21.20220611999204, 10.248323045872555, 103.19675765974497, 125.6658475833089, 24.07091444206485, 93.38758401048821, 43.25502947681832, 71.13711679952577, 25.532119794738524, 88.58410660665258, 37.556239498986244, 23.69705985696337, 42.43186347970475, 48.609139667528, 51.5045229457253, 39.691011238163824, 32.36596435197467, 25.427525442732495, 31.16268112266875, 22.194386154367233, 51.47861053028756, 61.97659948782067], \"Category\": [\"Default\", \"Default\", \"Default\", \"Default\", \"Default\", \"Default\", \"Default\", \"Default\", \"Default\", \"Default\", \"Default\", \"Default\", \"Default\", \"Default\", \"Default\", \"Default\", \"Default\", \"Default\", \"Default\", \"Default\", \"Default\", \"Default\", \"Default\", \"Default\", \"Default\", \"Default\", \"Default\", \"Default\", \"Default\", \"Default\", \"Topic1\", \"Topic1\", \"Topic1\", \"Topic1\", \"Topic1\", \"Topic1\", \"Topic1\", \"Topic1\", \"Topic1\", \"Topic1\", \"Topic1\", \"Topic1\", \"Topic1\", \"Topic1\", \"Topic1\", \"Topic1\", \"Topic1\", \"Topic1\", \"Topic1\", \"Topic1\", \"Topic1\", \"Topic1\", \"Topic1\", \"Topic1\", \"Topic1\", \"Topic1\", \"Topic1\", \"Topic1\", \"Topic1\", \"Topic1\", \"Topic1\", \"Topic1\", \"Topic1\", \"Topic1\", \"Topic1\", \"Topic1\", \"Topic1\", \"Topic1\", \"Topic1\", \"Topic1\", \"Topic1\", \"Topic1\", \"Topic1\", \"Topic1\", \"Topic1\", \"Topic1\", \"Topic1\", \"Topic1\", \"Topic1\", \"Topic1\", \"Topic1\", \"Topic1\", \"Topic1\", \"Topic1\", \"Topic1\", \"Topic1\", \"Topic1\", \"Topic1\", \"Topic1\", \"Topic1\", \"Topic1\", \"Topic1\", \"Topic1\", \"Topic1\", \"Topic1\", \"Topic2\", \"Topic2\", \"Topic2\", \"Topic2\", \"Topic2\", \"Topic2\", \"Topic2\", \"Topic2\", \"Topic2\", \"Topic2\", \"Topic2\", \"Topic2\", \"Topic2\", \"Topic2\", \"Topic2\", \"Topic2\", \"Topic2\", \"Topic2\", \"Topic2\", \"Topic2\", \"Topic2\", \"Topic2\", \"Topic2\", \"Topic2\", \"Topic2\", \"Topic2\", \"Topic2\", \"Topic2\", \"Topic2\", \"Topic2\", \"Topic2\", \"Topic2\", \"Topic2\", \"Topic2\", \"Topic2\", \"Topic2\", \"Topic2\", \"Topic2\", \"Topic2\", \"Topic2\", \"Topic2\", \"Topic2\", \"Topic2\", \"Topic2\", \"Topic2\", \"Topic2\", \"Topic2\", \"Topic2\", \"Topic2\", \"Topic2\", \"Topic2\", \"Topic2\", \"Topic2\", \"Topic2\", \"Topic2\", \"Topic2\", \"Topic2\", \"Topic2\", \"Topic2\", \"Topic2\", \"Topic2\", \"Topic2\", \"Topic2\", \"Topic2\", \"Topic2\", \"Topic2\", \"Topic2\", \"Topic2\", \"Topic3\", \"Topic3\", \"Topic3\", \"Topic3\", \"Topic3\", \"Topic3\", \"Topic3\", \"Topic3\", \"Topic3\", \"Topic3\", \"Topic3\", \"Topic3\", \"Topic3\", \"Topic3\", \"Topic3\", \"Topic3\", \"Topic3\", \"Topic3\", \"Topic3\", \"Topic3\", \"Topic3\", \"Topic3\", \"Topic3\", \"Topic3\", \"Topic3\", \"Topic3\", \"Topic3\", \"Topic3\", \"Topic3\", \"Topic3\", \"Topic3\", \"Topic3\", \"Topic3\", \"Topic3\", \"Topic3\", \"Topic3\", \"Topic3\", \"Topic3\", \"Topic3\", \"Topic3\", \"Topic3\", \"Topic3\", \"Topic3\", \"Topic3\", \"Topic3\", \"Topic3\", \"Topic4\", \"Topic4\", \"Topic4\", \"Topic4\", \"Topic4\", \"Topic4\", \"Topic4\", \"Topic4\", \"Topic4\", \"Topic4\", \"Topic4\", \"Topic4\", \"Topic4\", \"Topic4\", \"Topic4\", \"Topic4\", \"Topic4\", \"Topic4\", \"Topic4\", \"Topic4\", \"Topic4\", \"Topic4\", \"Topic4\", \"Topic4\", \"Topic4\", \"Topic4\", \"Topic4\", \"Topic4\", \"Topic4\", \"Topic4\", \"Topic4\", \"Topic4\", \"Topic4\", \"Topic4\", \"Topic4\", \"Topic4\", \"Topic4\", \"Topic4\", \"Topic4\", \"Topic4\", \"Topic4\", \"Topic4\", \"Topic4\", \"Topic4\", \"Topic4\", \"Topic4\", \"Topic4\", \"Topic4\", \"Topic4\", \"Topic4\", \"Topic4\", \"Topic4\", \"Topic4\", \"Topic4\", \"Topic4\", \"Topic4\", \"Topic5\", \"Topic5\", \"Topic5\", \"Topic5\", \"Topic5\", \"Topic5\", \"Topic5\", \"Topic5\", \"Topic5\", \"Topic5\", \"Topic5\", \"Topic5\", \"Topic5\", \"Topic5\", \"Topic5\", \"Topic5\", \"Topic5\", \"Topic5\", \"Topic5\", \"Topic5\", \"Topic5\", \"Topic5\", \"Topic5\", \"Topic5\", \"Topic5\", \"Topic5\", \"Topic5\", \"Topic5\", \"Topic5\", \"Topic5\", \"Topic5\", \"Topic5\", \"Topic5\", \"Topic5\", \"Topic5\", \"Topic5\", \"Topic5\", \"Topic5\", \"Topic5\", \"Topic5\", \"Topic5\", \"Topic5\", \"Topic5\", \"Topic5\", \"Topic5\", \"Topic5\", \"Topic5\", \"Topic5\", \"Topic5\", \"Topic5\", \"Topic5\", \"Topic5\", \"Topic5\", \"Topic5\", \"Topic5\", \"Topic5\", \"Topic5\", \"Topic5\", \"Topic5\", \"Topic5\", \"Topic5\", \"Topic5\", \"Topic5\", \"Topic5\", \"Topic5\", \"Topic5\", \"Topic5\", \"Topic5\", \"Topic5\", \"Topic6\", \"Topic6\", \"Topic6\", \"Topic6\", \"Topic6\", \"Topic6\", \"Topic6\", \"Topic6\", \"Topic6\", \"Topic6\", \"Topic6\", \"Topic6\", \"Topic6\", \"Topic6\", \"Topic6\", \"Topic6\", \"Topic6\", \"Topic6\", \"Topic6\", \"Topic6\", \"Topic6\", \"Topic6\", \"Topic6\", \"Topic6\", \"Topic6\", \"Topic6\", \"Topic6\", \"Topic6\", \"Topic6\", \"Topic6\", \"Topic6\", \"Topic6\", \"Topic6\", \"Topic6\", \"Topic6\", \"Topic6\", \"Topic6\", \"Topic6\", \"Topic6\", \"Topic6\", \"Topic6\", \"Topic6\", \"Topic6\", \"Topic6\", \"Topic6\", \"Topic6\", \"Topic6\", \"Topic6\", \"Topic6\", \"Topic6\", \"Topic6\", \"Topic6\", \"Topic6\", \"Topic6\", \"Topic6\", \"Topic7\", \"Topic7\", \"Topic7\", \"Topic7\", \"Topic7\", \"Topic7\", \"Topic7\", \"Topic7\", \"Topic7\", \"Topic7\", \"Topic7\", \"Topic7\", \"Topic7\", \"Topic7\", \"Topic7\", \"Topic7\", \"Topic7\", \"Topic7\", \"Topic7\", \"Topic7\", \"Topic7\", \"Topic7\", \"Topic7\", \"Topic7\", \"Topic7\", \"Topic7\", \"Topic7\", \"Topic7\", \"Topic7\", \"Topic7\", \"Topic7\", \"Topic7\", \"Topic7\", \"Topic7\", \"Topic7\", \"Topic7\", \"Topic7\", \"Topic7\", \"Topic7\", \"Topic7\", \"Topic7\", \"Topic7\", \"Topic7\", \"Topic7\", \"Topic7\", \"Topic7\", \"Topic7\", \"Topic7\", \"Topic7\", \"Topic7\", \"Topic7\", \"Topic7\", \"Topic7\", \"Topic7\", \"Topic7\", \"Topic7\", \"Topic7\", \"Topic7\", \"Topic7\", \"Topic7\", \"Topic7\", \"Topic7\", \"Topic7\", \"Topic7\", \"Topic7\", \"Topic7\", \"Topic7\", \"Topic7\", \"Topic7\", \"Topic7\", \"Topic7\", \"Topic7\", \"Topic7\", \"Topic7\", \"Topic7\", \"Topic7\", \"Topic7\", \"Topic7\", \"Topic7\", \"Topic8\", \"Topic8\", \"Topic8\", \"Topic8\", \"Topic8\", \"Topic8\", \"Topic8\", \"Topic8\", \"Topic8\", \"Topic8\", \"Topic8\", \"Topic8\", \"Topic8\", \"Topic8\", \"Topic8\", \"Topic8\", \"Topic8\", \"Topic8\", \"Topic8\", \"Topic8\", \"Topic8\", \"Topic8\", \"Topic8\", \"Topic8\", \"Topic8\", \"Topic8\", \"Topic8\", \"Topic8\", \"Topic8\", \"Topic8\", \"Topic8\", \"Topic8\", \"Topic8\", \"Topic8\", \"Topic8\", \"Topic8\", \"Topic8\", \"Topic8\", \"Topic8\", \"Topic8\", \"Topic8\", \"Topic8\", \"Topic8\", \"Topic8\", \"Topic8\", \"Topic8\", \"Topic8\", \"Topic8\", \"Topic8\", \"Topic8\", \"Topic8\", \"Topic8\", \"Topic8\", \"Topic8\", \"Topic8\", \"Topic8\", \"Topic8\", \"Topic9\", \"Topic9\", \"Topic9\", \"Topic9\", \"Topic9\", \"Topic9\", \"Topic9\", \"Topic9\", \"Topic9\", \"Topic9\", \"Topic9\", \"Topic9\", \"Topic9\", \"Topic9\", \"Topic9\", \"Topic9\", \"Topic9\", \"Topic9\", \"Topic9\", \"Topic9\", \"Topic9\", \"Topic9\", \"Topic9\", \"Topic9\", \"Topic9\", \"Topic9\", \"Topic9\", \"Topic9\", \"Topic9\", \"Topic9\", \"Topic9\", \"Topic9\", \"Topic9\", \"Topic9\", \"Topic9\", \"Topic9\", \"Topic9\", \"Topic9\", \"Topic9\", \"Topic9\", \"Topic9\", \"Topic9\", \"Topic9\", \"Topic9\", \"Topic9\", \"Topic9\", \"Topic9\", \"Topic9\", \"Topic9\", \"Topic9\", \"Topic9\", \"Topic9\", \"Topic9\", \"Topic9\", \"Topic9\", \"Topic9\", \"Topic9\", \"Topic9\", \"Topic9\", \"Topic9\", \"Topic9\", \"Topic9\", \"Topic9\", \"Topic9\", \"Topic9\", \"Topic9\", \"Topic9\"], \"logprob\": [30.0, 29.0, 28.0, 27.0, 26.0, 25.0, 24.0, 23.0, 22.0, 21.0, 20.0, 19.0, 18.0, 17.0, 16.0, 15.0, 14.0, 13.0, 12.0, 11.0, 10.0, 9.0, 8.0, 7.0, 6.0, 5.0, 4.0, 3.0, 2.0, 1.0, -5.1666, -5.7078, -5.7082, -5.7092, -5.7093, -5.4008, -5.8201, -5.8222, -5.9927, -5.9927, -5.9928, -5.9929, -5.9944, -5.9966, -6.1488, -6.1488, -6.1488, -6.1488, -6.1489, -6.1493, -6.1494, -6.1498, -6.1496, -6.1503, -6.1502, -6.1505, -6.1515, -6.1515, -6.1523, -6.3342, -5.7061, -5.457, -5.7134, -5.7078, -3.9729, -4.9932, -3.6646, -5.8101, -4.9894, -4.0418, -5.6019, -5.7721, -5.6736, -5.3965, -4.5537, -5.6938, -5.0558, -4.8884, -5.0675, -5.4686, -5.6278, -5.3866, -5.4729, -5.3225, -5.5045, -5.5529, -5.3819, -5.4547, -5.5582, -5.5592, -5.5177, -5.5348, -5.5247, -5.5781, -5.6412, -5.4452, -5.4957, -5.7506, -5.7508, -5.9198, -5.9194, -5.9772, -6.0026, -6.1226, -6.1228, -6.1255, -6.2255, -6.2255, -6.2257, -6.2259, -6.226, -6.3404, -6.3406, -6.3407, -6.3438, -5.9435, -6.513, -6.513, -6.513, -6.5131, -6.5133, -6.5134, -6.5134, -6.5134, -6.5141, -5.5067, -5.7549, -6.0399, -4.8725, -4.8792, -5.4749, -4.1647, -5.1591, -5.7204, -4.9589, -4.9703, -5.2769, -4.0794, -5.3244, -5.605, -5.5468, -5.373, -5.5569, -4.3605, -5.3277, -4.8702, -5.6605, -4.7191, -5.3274, -5.2575, -4.8996, -5.3842, -5.0746, -4.7685, -5.2641, -5.1895, -5.0806, -5.3381, -5.4883, -5.3688, -5.4854, -5.4806, -5.4851, -4.8541, -5.1739, -5.3298, -5.3332, -5.8232, -5.8232, -5.8232, -5.8232, -5.8232, -5.8232, -5.8232, -5.8232, -5.8232, -5.8232, -5.8232, -6.1468, -6.1468, -6.1468, -6.1468, -6.1468, -6.1468, -6.1468, -6.1468, -6.1468, -6.1468, -6.1468, -6.1468, -6.1468, -6.1468, -6.1468, -5.3503, -5.1742, -5.6169, -4.7554, -5.8261, -5.5151, -5.4718, -5.7329, -5.0803, -5.4305, -5.9227, -5.3134, -5.881, -5.9388, -5.7475, -5.9122, -5.0561, -5.4763, -5.6046, -5.6476, -5.6485, -5.6485, -5.8034, -5.8035, -5.804, -5.8043, -5.8046, -5.8051, -5.8054, -5.8061, -5.8062, -5.8075, -5.8074, -5.8138, -5.9887, -5.9888, -5.9888, -4.8207, -6.2969, -6.2969, -6.2969, -6.2969, -6.2969, -6.2969, -6.2969, -6.2969, -5.6046, -5.1609, -5.8051, -5.368, -5.5381, -5.9888, -5.3191, -4.7505, -4.8376, -5.3278, -5.5039, -5.3691, -5.2112, -5.3203, -5.375, -5.4447, -5.358, -5.3479, -5.507, -5.2984, -5.4465, -5.4933, -5.6363, -5.523, -5.521, -5.6386, -5.9377, -5.9377, -6.0752, -6.2346, -6.2345, -6.2368, -6.2883, -6.3633, -6.249, -6.3681, -6.4242, -6.4241, -5.4782, -6.4893, -6.4893, -6.4894, -6.559, -6.5597, -5.7459, -6.5827, -6.6347, -6.5886, -5.9813, -6.7415, -6.7414, -6.7416, -6.7417, -6.7417, -6.7418, -6.742, -6.1181, -5.4478, -6.2519, -5.584, -4.7187, -5.6219, -5.2848, -5.7884, -5.329, -5.5308, -4.9115, -4.36, -5.5999, -5.6576, -4.2359, -4.7702, -5.7644, -4.4608, -4.7388, -5.0786, -4.7767, -5.0164, -5.3074, -4.8191, -5.2673, -5.4918, -4.9919, -5.3734, -5.1379, -4.9814, -4.8751, -5.4061, -5.2971, -5.271, -5.2852, -5.4343, -5.4068, -5.4131, -5.4277, -4.89, -5.1332, -5.3323, -5.3337, -5.3344, -5.3368, -4.7869, -5.3339, -6.1492, -6.1492, -6.1492, -6.1492, -6.1492, -6.1492, -6.1492, -6.1492, -6.1492, -6.1492, -6.1492, -6.1492, -6.1492, -6.1492, -6.1492, -6.1492, -6.1492, -6.1493, -6.1493, -6.1493, -6.1493, -6.1497, -4.6609, -5.5175, -5.8258, -5.832, -4.9565, -5.3322, -5.333, -5.0911, -5.5173, -5.3029, -5.5652, -5.0241, -5.5174, -5.8267, -4.9043, -5.1697, -5.5564, -5.569, -5.8302, -5.6791, -5.9358, -5.6726, -5.727, -5.7006, -5.814, -6.0884, -6.2073, -6.3155, -6.187, -6.3914, -5.1395, -6.5001, -5.8359, -6.5696, -6.5696, -6.6265, -6.644, -6.6442, -6.6449, -6.6471, -6.6866, -6.7052, -6.7052, -6.706, -6.7068, -5.9946, -6.3443, -6.771, -6.7714, -6.7713, -6.8414, -6.7805, -6.8652, -6.8484, -6.9162, -6.293, -6.0717, -6.155, -6.3086, -6.0642, -6.1029, -6.2958, -5.8724, -5.0913, -5.9437, -5.3185, -4.7914, -5.3639, -5.4652, -6.0748, -5.6366, -5.6608, -6.1288, -5.5181, -5.48, -5.6145, -4.75, -5.6121, -5.1292, -5.7062, -5.3702, -5.2378, -5.1058, -5.2749, -4.9042, -4.9101, -5.2696, -5.4122, -5.1356, -5.5726, -5.1659, -5.2574, -5.3276, -5.2094, -4.6515, -4.8786, -5.185, -4.9154, -5.1985, -5.4106, -5.4917, -5.4634, -5.4474, -5.4549, -4.2515, -4.7601, -5.016, -4.2252, -5.1525, -5.1632, -5.2689, -5.3896, -5.4693, -5.5897, -5.5938, -5.6925, -5.6925, -5.6929, -5.7018, -5.8081, -5.9799, -5.9809, -5.9816, -5.9887, -5.9916, -5.2056, -6.136, -6.136, -6.136, -6.1364, -6.1365, -6.1365, -6.1366, -6.1405, -5.0382, -5.0469, -5.4699, -4.2771, -5.5782, -5.601, -5.7139, -5.636, -5.0138, -5.7626, -5.7772, -4.2552, -4.931, -5.1068, -5.2431, -4.909, -5.0589, -4.7337, -4.7065, -5.0024, -5.0627, -4.9857, -5.1834, -5.2932, -5.2838, -5.3042, -5.4235, -4.8219, -5.3735, -5.5421, -5.5425, -5.6248, -5.6263, -5.8477, -5.8492, -5.1815, -5.9634, -6.0925, -6.1356, -6.136, -6.136, -6.136, -6.2914, -6.2913, -6.2914, -6.2914, -6.2919, -6.2929, -6.293, -6.2929, -6.2932, -6.2932, -6.2939, -6.2966, -5.1511, -5.8478, -6.4766, -5.8107, -5.5822, -5.8477, -5.9626, -5.8655, -5.2855, -5.8485, -5.8335, -5.3432, -5.0221, -5.5499, -4.8769, -4.5682, -4.7995, -5.1294, -5.227, -5.5284, -4.6745, -4.6388, -5.2346, -4.7471, -5.0267, -4.8803, -5.2268, -4.8194, -5.1391, -5.2772, -5.1191, -5.0956, -5.1076, -5.2548, -5.2877, -5.3824, -5.3673, -5.4002, -5.3623, -5.358], \"loglift\": [30.0, 29.0, 28.0, 27.0, 26.0, 25.0, 24.0, 23.0, 22.0, 21.0, 20.0, 19.0, 18.0, 17.0, 16.0, 15.0, 14.0, 13.0, 12.0, 11.0, 10.0, 9.0, 8.0, 7.0, 6.0, 5.0, 4.0, 3.0, 2.0, 1.0, 2.6882, 2.5987, 2.5985, 2.5982, 2.5981, 2.5861, 2.5751, 2.5732, 2.5336, 2.5336, 2.5335, 2.5335, 2.5328, 2.5316, 2.4913, 2.4913, 2.4913, 2.4913, 2.4913, 2.4911, 2.491, 2.4909, 2.4907, 2.4906, 2.4905, 2.4904, 2.4901, 2.4901, 2.4898, 2.4346, 2.4344, 2.3985, 2.4173, 2.3866, 1.8264, 1.9422, 1.0504, 2.1954, 1.4538, 0.4762, 1.9595, 2.1221, 1.9855, 1.6773, 0.5333, 1.7894, 0.4705, -0.0736, 0.1732, 1.1179, 1.4866, 0.7614, 0.7789, -0.1984, 0.713, 0.9561, -0.2606, 0.2157, 0.8999, 0.6841, 0.0365, -0.1249, -0.4612, 0.5146, 0.3934, 2.0499, 2.0455, 2.0189, 2.0188, 1.9974, 1.9974, 1.9892, 1.9858, 1.9674, 1.9672, 1.9646, 1.9501, 1.95, 1.95, 1.9499, 1.9499, 1.9289, 1.9287, 1.9286, 1.9276, 1.927, 1.8931, 1.8931, 1.8931, 1.893, 1.893, 1.8929, 1.8929, 1.8929, 1.8925, 1.8732, 1.8262, 1.8233, 1.5531, 1.5538, 1.6717, 1.3619, 1.5414, 1.6856, 1.4561, 1.4596, 1.4003, 0.7354, 1.29, 1.4846, 1.4388, 1.292, 1.4226, 0.3544, 1.1902, 0.6784, 1.4977, 0.3678, 1.0737, 0.9276, 0.3252, 1.0784, 0.3931, -0.2505, 0.7401, 0.3368, -0.0172, 0.5928, 1.0468, 0.134, 0.9279, 0.2239, 0.5437, 3.9712, 3.8406, 3.7681, 3.7655, 3.4982, 3.4982, 3.4982, 3.4982, 3.4982, 3.4982, 3.4982, 3.4982, 3.4982, 3.4982, 3.4982, 3.2896, 3.2896, 3.2896, 3.2896, 3.2896, 3.2896, 3.2896, 3.2896, 3.2896, 3.2896, 3.2896, 3.2896, 3.2896, 3.2896, 3.2896, 2.9249, 2.7959, 2.7912, 1.757, 2.8385, 2.1337, 1.6439, 2.247, 0.3798, 1.2944, 2.667, 0.8717, 1.6901, 1.3815, -0.6841, -1.0974, 3.0839, 2.9962, 2.9634, 2.9514, 2.9504, 2.9504, 2.9057, 2.9057, 2.9053, 2.9052, 2.9052, 2.9047, 2.9046, 2.9042, 2.9041, 2.9038, 2.9034, 2.8989, 2.8442, 2.8442, 2.8442, 2.7663, 2.7243, 2.7243, 2.7243, 2.7243, 2.7243, 2.7243, 2.7243, 2.7243, 2.6694, 2.5487, 2.4518, 2.1427, 2.1262, 2.4757, 1.9229, 1.3717, 0.795, 1.3217, 1.5714, 0.7426, -0.0871, 0.3841, 0.564, 0.8528, 0.2583, 0.1161, 1.0154, -0.4835, -0.2216, 0.1772, 1.4631, 0.4079, -0.0532, 0.5888, 1.251, 1.2509, 1.2414, 1.2288, 1.2288, 1.2271, 1.2241, 1.2169, 1.214, 1.2128, 1.2112, 1.2111, 1.2098, 1.2045, 1.2044, 1.2044, 1.1968, 1.1963, 1.1945, 1.1932, 1.1876, 1.1868, 1.1864, 1.1742, 1.1742, 1.1741, 1.1741, 1.174, 1.174, 1.1738, 1.1358, 1.0895, 1.1397, 1.0392, 0.8658, 0.9999, 0.9108, 0.9808, 0.8416, 0.8973, 0.7211, 0.5077, 0.8763, 0.8763, 0.2821, 0.4705, 0.9019, 0.2542, 0.3825, 0.5377, 0.3474, 0.4386, 0.605, 0.2679, 0.5393, 0.6676, 0.2329, 0.5656, 0.2725, 0.082, -0.0603, 0.5388, 0.2571, 0.1929, 0.1749, 0.491, 0.1418, 0.1132, 0.176, 3.9679, 3.8681, 3.7753, 3.7741, 3.7738, 3.7713, 3.47, 3.2969, 3.2928, 3.2928, 3.2928, 3.2928, 3.2928, 3.2928, 3.2928, 3.2928, 3.2928, 3.2928, 3.2928, 3.2928, 3.2928, 3.2928, 3.2928, 3.2928, 3.2928, 3.2927, 3.2927, 3.2927, 3.2927, 3.2924, 2.6312, 2.964, 3.0996, 3.0939, 2.4514, 2.6779, 2.5802, 2.3024, 2.5735, 2.2616, 2.4734, 1.4058, 2.0868, 2.5673, 0.1827, 0.2943, 1.3982, 1.2986, 2.113, 1.4665, 2.459, 1.1831, 0.7874, 0.5339, -0.5733, 0.9501, 0.9434, 0.934, 0.9323, 0.9283, 0.928, 0.9226, 0.9206, 0.9167, 0.9166, 0.9114, 0.9101, 0.91, 0.9094, 0.9078, 0.906, 0.9043, 0.9042, 0.904, 0.903, 0.8985, 0.8976, 0.8974, 0.8969, 0.8969, 0.8897, 0.8887, 0.8852, 0.8836, 0.8814, 0.8706, 0.8605, 0.8542, 0.8521, 0.8069, 0.8044, 0.832, 0.7647, 0.6344, 0.7746, 0.6637, 0.5493, 0.6452, 0.6415, 0.7809, 0.6734, 0.6763, 0.7841, 0.5921, 0.5777, 0.62, 0.3135, 0.6037, 0.4251, 0.638, 0.5019, 0.4326, 0.3543, 0.4296, 0.2199, 0.2112, 0.3924, 0.4622, 0.2748, 0.5496, 0.289, 0.3463, 0.3815, 0.2934, -0.1335, -0.011, 0.225, -0.1006, 0.0263, 0.138, 0.3149, 0.0043, -0.2067, -0.7399, 2.8188, 2.7791, 2.7522, 2.7366, 2.7346, 2.722, 2.7147, 2.6983, 2.6854, 2.6627, 2.6578, 2.6419, 2.6417, 2.6416, 2.6379, 2.6161, 2.5736, 2.5725, 2.572, 2.5648, 2.559, 2.5571, 2.53, 2.5299, 2.5298, 2.5297, 2.5296, 2.5296, 2.5295, 2.528, 2.4621, 2.386, 2.4165, 2.0941, 2.3774, 2.343, 2.3759, 2.3092, 1.878, 2.3163, 2.3066, 0.2627, 1.1652, 1.3849, 1.4389, 0.8001, 1.0891, 0.1339, 0.0085, 0.408, 0.4401, 0.1012, 0.1573, 0.6518, 0.1261, 0.1636, 0.0404, 2.5286, 2.4726, 2.4494, 2.4493, 2.4368, 2.4361, 2.3978, 2.3972, 2.383, 2.3744, 2.3461, 2.3357, 2.3353, 2.3353, 2.3353, 2.2963, 2.2963, 2.2963, 2.2963, 2.296, 2.2957, 2.2956, 2.2955, 2.2955, 2.2955, 2.2952, 2.2938, 2.2749, 2.243, 2.243, 2.2145, 2.0821, 2.1605, 2.1883, 2.1045, 1.8156, 2.0219, 1.9829, 1.6362, 1.3583, 1.7009, 1.1273, 0.6725, 0.6645, 0.9633, 1.0705, 1.4961, 0.0404, -0.1208, 0.936, 0.0678, 0.5578, 0.2066, 0.8848, 0.0482, 0.5866, 0.909, 0.4846, 0.3722, 0.3023, 0.4156, 0.5867, 0.7334, 0.5451, 0.8515, 0.0481, -0.1332]}, \"token.table\": {\"Topic\": [6, 1, 1, 2, 4, 5, 7, 8, 9, 7, 1, 5, 7, 8, 9, 2, 7, 5, 7, 2, 1, 5, 7, 8, 9, 5, 9, 1, 4, 5, 7, 8, 9, 1, 2, 4, 5, 7, 8, 5, 7, 9, 2, 5, 7, 9, 2, 2, 5, 7, 9, 8, 8, 5, 6, 2, 8, 5, 9, 1, 1, 2, 4, 5, 7, 8, 9, 4, 1, 5, 6, 7, 4, 7, 2, 4, 5, 7, 4, 7, 4, 5, 2, 5, 7, 9, 1, 2, 4, 5, 7, 9, 7, 8, 7, 8, 7, 5, 1, 1, 8, 7, 1, 4, 7, 8, 4, 5, 9, 4, 1, 2, 5, 7, 9, 5, 7, 8, 9, 5, 7, 1, 2, 5, 7, 8, 9, 5, 8, 5, 9, 4, 7, 4, 6, 1, 1, 2, 5, 7, 8, 9, 2, 4, 5, 7, 2, 7, 2, 4, 5, 7, 9, 4, 5, 7, 5, 5, 7, 4, 1, 2, 7, 9, 1, 4, 5, 1, 4, 5, 4, 4, 2, 7, 9, 2, 4, 5, 7, 9, 1, 5, 7, 9, 2, 7, 5, 7, 8, 1, 5, 7, 5, 7, 8, 9, 5, 4, 7, 9, 9, 4, 7, 9, 8, 8, 7, 8, 5, 1, 4, 6, 9, 2, 4, 1, 1, 2, 5, 7, 9, 6, 1, 2, 4, 5, 7, 9, 1, 4, 5, 7, 8, 9, 1, 1, 1, 4, 2, 5, 7, 9, 1, 2, 5, 7, 9, 1, 2, 4, 5, 7, 8, 9, 9, 5, 9, 1, 5, 7, 9, 1, 2, 5, 7, 9, 4, 1, 2, 5, 1, 7, 1, 8, 7, 1, 9, 2, 5, 7, 2, 3, 4, 7, 8, 5, 6, 9, 1, 2, 7, 8, 9, 4, 2, 8, 1, 4, 5, 7, 1, 5, 2, 4, 9, 4, 5, 8, 8, 1, 8, 2, 4, 7, 9, 5, 1, 2, 5, 7, 2, 1, 4, 5, 7, 9, 5, 7, 8, 1, 2, 4, 5, 7, 8, 9, 1, 1, 1, 4, 5, 7, 8, 2, 4, 7, 1, 7, 2, 3, 4, 5, 2, 5, 7, 9, 6, 5, 9, 1, 9, 2, 4, 7, 1, 2, 5, 9, 1, 2, 5, 7, 8, 9, 8, 4, 5, 7, 1, 2, 5, 7, 8, 9, 9, 7, 8, 7, 8, 9, 2, 3, 2, 5, 5, 7, 1, 5, 7, 8, 5, 2, 9, 2, 2, 3, 7, 7, 9, 7, 8, 7, 8, 9, 2, 6, 1, 2, 9, 8, 1, 4, 1, 2, 5, 7, 9, 5, 7, 5, 9, 1, 9, 3, 1, 2, 4, 5, 7, 9, 1, 2, 7, 8, 1, 2, 7, 8, 4, 2, 2, 5, 4, 5, 7, 8, 9, 7, 1, 2, 4, 5, 7, 9, 8, 5, 4, 5, 6, 2, 7, 1, 4, 5, 7, 8, 9, 1, 2, 5, 7, 8, 9, 2, 4, 5, 7, 2, 4, 5, 7, 2, 2, 5, 7, 8, 9, 5, 1, 2, 7, 6, 4, 1, 2, 5, 7, 9, 1, 2, 1, 2, 5, 7, 8, 9, 4, 4, 4, 5, 8, 1, 2, 5, 7, 2, 9, 2, 5, 7, 8, 1, 2, 3, 5, 7, 9, 1, 5, 7, 7, 7, 9, 1, 9, 2, 5, 7, 9, 2, 4, 5, 7, 8, 9, 2, 2, 3, 5, 7, 9, 7, 5, 2, 4, 5, 7, 1, 2, 5, 7, 9, 1, 5, 4, 9, 8, 5, 8, 6, 9, 9, 1, 1, 2, 5, 4, 1, 4, 5, 9, 2, 3, 1, 4, 5, 7, 8, 1, 2, 4, 5, 6, 7, 8, 9, 1, 2, 1, 2, 5, 6, 7, 8, 9, 2, 1, 5, 8, 9, 7, 8, 4, 9, 7, 1, 8, 1, 5, 4, 1, 5, 7, 1, 2, 4, 5, 7, 8, 9, 5, 7, 9, 2, 1, 2, 4, 5, 7, 2, 8, 2, 2, 1, 2, 4, 5, 7, 8, 9, 2, 7, 8, 5, 8, 5, 7, 1, 7, 2, 2, 2, 5, 7, 2, 5, 7, 8, 9, 2, 5, 7, 9, 1, 7, 8, 1, 2, 7, 8, 9, 8, 1, 5, 7, 9, 9, 7, 7, 4, 5, 9, 2, 9, 5, 7, 2, 5, 6, 7, 9, 5, 6, 7, 8, 9, 1, 2, 4, 5, 6, 7, 8, 9, 7, 5, 8, 7, 4, 9, 4, 2, 7, 8, 1, 5, 5, 8, 3, 1, 4, 5, 8, 4, 1, 2, 7, 8, 9, 5, 1, 5, 7, 8, 9, 2, 7, 4, 7, 4, 9, 5, 7, 8, 8, 2, 4, 7, 2, 5, 7, 8, 8, 6, 8, 4, 4, 9, 1, 7, 9, 3, 4, 5, 7, 4, 2, 4, 5, 7, 9, 1, 7, 1, 2, 4, 5, 7, 9, 2, 7, 9, 4, 5, 7, 9, 5, 7, 8, 1, 7, 6, 9, 2, 9, 5, 6, 5, 4, 4, 8, 4, 1, 3, 5, 7, 1, 5, 7, 8, 9, 2, 4, 5, 7, 9, 4, 2, 3, 5, 7, 8, 9, 5, 7, 8, 2, 1, 4, 1, 5, 7, 2, 1, 5, 7, 8, 1, 5, 7, 4, 2, 4, 6, 8, 2, 5, 1, 6, 8, 7, 5, 9, 1, 2, 5, 7, 2, 8, 2, 7, 8, 2, 7, 9, 2, 5, 7, 8, 1, 2, 4, 5, 7, 8, 9, 2, 5, 7, 9, 2, 5, 6, 7, 9, 9, 4, 1, 2, 4, 5, 7, 8, 9, 8, 7, 9], \"Freq\": [0.7045306318561463, 0.49105388783024323, 0.043644181431485324, 0.058192241908647094, 0.014548060477161773, 0.3927976328833679, 0.450989874792015, 0.014548060477161773, 0.014548060477161773, 0.9894758188129297, 0.18890439394027772, 0.18890439394027772, 0.31484065656712956, 0.0629681313134259, 0.2518725252537036, 0.10819819441981686, 0.8655855553585349, 0.9517247221159469, 0.9287709020398306, 0.9257785397300065, 0.018117639067253093, 0.21741166880703713, 0.6341173673538584, 0.07247055626901237, 0.054352917201759283, 0.9060888891738835, 0.06969914532106797, 0.37258330023322167, 0.028660253864093977, 0.3439230463691277, 0.17196152318456384, 0.028660253864093977, 0.08598076159228192, 0.13062059233740117, 0.17416078978320157, 0.04354019744580039, 0.39186177701220354, 0.21770098722900194, 0.04354019744580039, 0.3160428467370007, 0.21069523115800048, 0.42139046231600097, 0.48263202626463575, 0.1378948646470388, 0.2757897292940776, 0.0689474323235194, 0.9527288707197362, 0.40869338409237543, 0.06811556401539591, 0.4768089481077713, 0.9326107341859564, 0.9005141608581416, 0.503842710874877, 0.9517816838134134, 0.783711875686905, 0.24759597992794327, 0.49519195985588654, 0.489443103355366, 0.36708232751652453, 0.5583090912684538, 0.041144525776004325, 0.1645781031040173, 0.041144525776004325, 0.20572262888002163, 0.3703007319840389, 0.06171678866400649, 0.10286131444001081, 0.5260042555508828, 0.12751706002877752, 0.6375853001438876, 0.12751706002877752, 0.829247509578621, 0.4118424000937828, 0.4118424000937828, 0.08795283556288364, 0.08795283556288364, 0.3957877600329764, 0.4397641778144182, 0.38382682446417865, 0.38382682446417865, 0.526193786753063, 0.9515312412525752, 0.04219932793502863, 0.3797939514152577, 0.3797939514152577, 0.16879731174011453, 0.07833270469035421, 0.039166352345177104, 0.07833270469035421, 0.31333081876141683, 0.31333081876141683, 0.19583176172588554, 0.876171752889106, 0.7639085654249534, 0.24473186407248387, 0.48946372814496775, 0.9290644915841699, 0.9515420732756512, 0.8763013383836674, 0.7033558258591593, 0.5038602875005058, 0.8717848078600517, 0.10154183485719605, 0.050770917428598024, 0.4061673394287842, 0.4569382568573822, 0.31733761261377624, 0.31733761261377624, 0.31733761261377624, 0.5264289766801407, 0.4909339964341947, 0.11948361883659678, 0.6571599036012823, 0.23896723767319356, 0.8257890014946627, 0.17455930496061975, 0.7855168723227889, 0.6657752837343343, 0.8026585603377429, 0.27280131828361226, 0.70148910415786, 0.0426111022630455, 0.12783330678913649, 0.23436106244675023, 0.49002767602502323, 0.085222204526091, 0.02130555113152275, 0.38925834289678274, 0.38925834289678274, 0.5854616382742209, 0.29273081913711047, 0.5268661142881812, 0.8455855101785588, 0.33465156442148597, 0.33465156442148597, 0.4909414788998128, 0.05361377954565356, 0.5361377954565356, 0.21445511818261423, 0.10722755909130711, 0.05361377954565356, 0.05361377954565356, 0.8222378859101188, 0.11812423518310049, 0.17718635277465075, 0.708745411098603, 0.7769952327729651, 0.8757561598389703, 0.10323715522299864, 0.034412385074332884, 0.10323715522299864, 0.7226600865609906, 0.06882477014866577, 0.15833193090355363, 0.19791491362944205, 0.6333277236142145, 0.8510879497564355, 0.8667408872737259, 0.9288611645278291, 0.5263143885260089, 0.1351693162015965, 0.2252821936693275, 0.450564387338655, 0.180225754935462, 0.30875286090743514, 0.15437643045371757, 0.46312929136115266, 0.49093395358938907, 0.1125990140628996, 0.9007921125031968, 0.8931826066924944, 0.5278737490557327, 0.198716367763169, 0.794865471052676, 0.8293285813677317, 0.23596476241910025, 0.03932746040318338, 0.11798238120955012, 0.43260206443501714, 0.1573098416127335, 0.1311641939198649, 0.2623283878397298, 0.3934925817595947, 0.1311641939198649, 0.5716319060435797, 0.28581595302178986, 0.3515400200989929, 0.5859000334983214, 0.058590003349832144, 0.36810283109583314, 0.18405141554791657, 0.36810283109583314, 0.3299407297229882, 0.5184782895646958, 0.04713438996042689, 0.11783597490106722, 0.9516704453787588, 0.07463797209118715, 0.8956556650942459, 0.8264930125271253, 0.9330708127969837, 0.20534024362891326, 0.6160207308867398, 0.10267012181445663, 0.5050546270063575, 0.666269612402152, 0.2800877981797217, 0.5601755963594434, 0.952772709837066, 0.8954266217311633, 0.9422568877660934, 0.2834377740991784, 0.5668755481983568, 0.6810493828856431, 0.17026234572141077, 0.8762772860154621, 0.07821983256269267, 0.03910991628134634, 0.11732974884403902, 0.6648685767828878, 0.11732974884403902, 0.7834456888936462, 0.0755838641146898, 0.12597310685781632, 0.050389242743126526, 0.0755838641146898, 0.5542816701743918, 0.10077848548625305, 0.04376548705656475, 0.029176991371043168, 0.3793008878235612, 0.4522433662511691, 0.029176991371043168, 0.058353982742086336, 0.49164531519302523, 0.4910504305993953, 0.8769623201704065, 0.718699062591735, 0.21630425597631447, 0.3965578026232432, 0.3244563839644717, 0.07210141865877148, 0.035178149335329444, 0.24624704534730613, 0.316603344017965, 0.17589074667664722, 0.21106889601197668, 0.024982011210139918, 0.07494603363041975, 0.024982011210139918, 0.24982011210139915, 0.5496042466230782, 0.024982011210139918, 0.049964022420279836, 0.9323965540957359, 0.9077364642173086, 0.9324852216490945, 0.06729176678604319, 0.3364588339302159, 0.5607647232170265, 0.022430588928681064, 0.03711086938647834, 0.03711086938647834, 0.2597760857053484, 0.6679956489566101, 0.03711086938647834, 0.718699062591735, 0.2135275766174967, 0.10676378830874834, 0.5338189415437418, 0.4657155495447824, 0.4657155495447824, 0.09165055154988835, 0.8248549639489952, 0.848887845647971, 0.3010014537574985, 0.602002907514997, 0.6615162192551319, 0.11025270320918866, 0.22050540641837732, 0.29506492918640154, 0.04215213274091451, 0.04215213274091451, 0.5901298583728031, 0.04215213274091451, 0.9079625107167021, 0.1674440822975234, 0.837220411487617, 0.11529105476377144, 0.15372140635169526, 0.42273386746716196, 0.07686070317584763, 0.19215175793961906, 0.718699062591735, 0.7773931514599917, 0.7232528879643167, 0.30753839877037675, 0.10251279959012558, 0.5125639979506279, 0.8287124896430356, 0.12273923636782733, 0.8591746545747913, 0.8221928643611978, 0.2654242105979073, 0.7962726317937218, 0.5953487226935489, 0.24502759800592386, 0.4900551960118477, 0.9230374291617526, 0.5899190924936895, 0.29495954624684473, 0.5577028989451978, 0.11154057978903956, 0.2230811595780791, 0.11154057978903956, 0.9148161121182028, 0.10749005716224097, 0.053745028581120485, 0.6449403429734458, 0.16123508574336146, 0.8496212887106387, 0.030896653939464325, 0.030896653939464325, 0.2471732315157146, 0.5870364248498221, 0.1235866157578573, 0.6820642071131636, 0.2728256828452654, 0.06820642071131636, 0.16473385778312458, 0.16473385778312458, 0.009690226928419093, 0.34884816942308733, 0.17442408471154366, 0.058141361570514555, 0.07752181542735274, 0.766390623428778, 0.4916920393944511, 0.06164770206874675, 0.030823851034373375, 0.2774146593093604, 0.6164770206874676, 0.06164770206874675, 0.14368007719668735, 0.07184003859834368, 0.7902404245817805, 0.0374735102684374, 0.9368377567109349, 0.213807397379812, 0.106903698689906, 0.106903698689906, 0.53451849344953, 0.13313367010919624, 0.0532534680436785, 0.6922950845678204, 0.13313367010919624, 0.7839019874902452, 0.9199293204273865, 0.7699141892613184, 0.26097646107251765, 0.5219529221450353, 0.9254835288510742, 0.6808068268598358, 0.3404034134299179, 0.17483583961847426, 0.29139306603079046, 0.4079502924431066, 0.11655722641231617, 0.09549133858381627, 0.08753372703516492, 0.358092519689311, 0.3183044619460542, 0.0716185039378622, 0.06366089238921084, 0.5038538745415986, 0.06591567492052898, 0.4614097244437028, 0.4614097244437028, 0.011288706725241173, 0.045154826900964694, 0.4402595622844057, 0.36123861520771755, 0.06773224035144704, 0.0790209470766882, 0.7701246695739269, 0.9655666202311789, 0.8477711302983655, 0.6608665255879739, 0.11014442093132898, 0.22028884186265796, 0.7536470161097532, 0.25121567203658435, 0.9530540578198264, 0.46676873332812957, 0.6815771363747966, 0.2981899971639735, 0.13855400134529272, 0.20783100201793905, 0.4156620040358781, 0.20783100201793905, 0.8985766836932757, 0.7770993658220111, 0.8293285813677317, 0.7770003864406467, 0.18216550793191627, 0.18216550793191627, 0.7286620317276651, 0.8556409728701126, 0.08556409728701127, 0.283145702290979, 0.566291404581958, 0.8066647720071854, 0.6281807036744156, 0.3140903518372078, 0.522963371295264, 0.261481685647632, 0.8779491871047225, 0.4308552686600553, 0.4308552686600553, 0.7911237501959922, 0.7034537626763057, 0.718699062591735, 0.04154391402149897, 0.12463174206449691, 0.6231587103224846, 0.04154391402149897, 0.20771957010749484, 0.8112181231294324, 0.8285827703333093, 0.8970884049437245, 0.08970884049437246, 0.22737199464918398, 0.45474398929836796, 0.7759317956309163, 0.02030977693835321, 0.02030977693835321, 0.02030977693835321, 0.40619553876706416, 0.48743464652047697, 0.02030977693835321, 0.7039723478563706, 0.17181788781085072, 0.5727262927028357, 0.2290905170811343, 0.09386190662499982, 0.4693095331249991, 0.2815857198749995, 0.09386190662499982, 0.5953646702919883, 0.7675527033915136, 0.6961581969117658, 0.13923163938235317, 0.03856422279807466, 0.2699495595865226, 0.4242064507788212, 0.19282111399037327, 0.07712844559614931, 0.9288396431953373, 0.03227024419745762, 0.1613512209872881, 0.03227024419745762, 0.338837564073305, 0.3711078082707626, 0.06454048839491525, 0.7270824941255027, 0.8110224443397045, 0.1411287464657723, 0.7056437323288616, 0.1411287464657723, 0.5207144232024911, 0.41657153856199286, 0.04716490323415342, 0.09432980646830684, 0.14149470970246025, 0.37731922587322736, 0.14149470970246025, 0.23582451617076708, 0.07252219893931373, 0.14504439787862747, 0.32634989522691177, 0.32634989522691177, 0.07252219893931373, 0.07252219893931373, 0.1961499967640194, 0.06538333225467313, 0.32691666127336566, 0.3922999935280388, 0.13412928580357378, 0.13412928580357378, 0.33532321450893443, 0.33532321450893443, 0.6776127628775812, 0.3588738945491272, 0.23924926303275149, 0.11962463151637574, 0.05981231575818787, 0.1794369472745636, 0.8451746244916787, 0.5205075748853987, 0.26025378744269934, 0.9296480837153406, 0.7839562371751779, 0.527115797553106, 0.032506991084108434, 0.06501398216821687, 0.42259088409340967, 0.4876048662616265, 0.6617196760192408, 0.4912439397550801, 0.7770993658220111, 0.08725010382343971, 0.17450020764687943, 0.305375363382039, 0.37081294124961883, 0.02181252595585993, 0.04362505191171986, 0.9422051706233571, 0.5266427126215026, 0.5259827751385869, 0.9516544143298785, 0.5037824481857084, 0.054012015033584465, 0.5401201503358447, 0.10802403006716893, 0.27006007516792235, 0.25118063993219003, 0.5023612798643801, 0.6776800176056794, 0.11214128252400395, 0.8971302601920316, 0.503726719303304, 0.05847404173171847, 0.11694808346343694, 0.05847404173171847, 0.29237020865859237, 0.3508442503903108, 0.05847404173171847, 0.0653210302845639, 0.7838523634147667, 0.1306420605691278, 0.791184689548224, 0.14578917723519086, 0.7289458861759543, 0.7685745568533321, 0.725712706803503, 0.3337900928717471, 0.2225267285811647, 0.2781584107264559, 0.11126336429058235, 0.04773207074259062, 0.04773207074259062, 0.45345467205461093, 0.4057226013120203, 0.04773207074259062, 0.6623079506759451, 0.9258162474048316, 0.08166376123114437, 0.020415940307786092, 0.3266550449245775, 0.5103985076946523, 0.040831880615572184, 0.8760544416590428, 0.9527832542159642, 0.4773971159665171, 0.05304412399627968, 0.2652206199813984, 0.21217649598511873, 0.06557111201010613, 0.04917833400757959, 0.42621222806568976, 0.2950700040454775, 0.14753500202273875, 0.24453461839483198, 0.7336038551844959, 0.718699062591735, 0.9342469607947798, 0.9247914590023026, 0.8987706984269438, 0.9063934343897475, 0.41890667367888346, 0.41890667367888346, 0.8293285813677317, 0.49093993661302116, 0.49103681212228967, 0.7770993658220111, 0.8274121021814681, 0.718699062591735, 0.8763279222031637, 0.24256610818156807, 0.3638491622723521, 0.3638491622723521, 0.8497670896635034, 0.7138672106322163, 0.02425822019459238, 0.07277466058377714, 0.5579390644756248, 0.31535686252970097, 0.02425822019459238, 0.020494217039052142, 0.06148265111715643, 0.040988434078104284, 0.3279074726248343, 0.020494217039052142, 0.3484016896638864, 0.06148265111715643, 0.143459519273365, 0.5689134341905338, 0.2844567170952669, 0.08341351839983034, 0.33365407359932137, 0.16682703679966068, 0.08341351839983034, 0.16682703679966068, 0.16682703679966068, 0.08341351839983034, 0.9096453039557993, 0.4909339397770045, 0.5127251638003795, 0.34181677586691966, 0.08545419396672992, 0.8898001644141026, 0.08898001644141026, 0.5137894014715897, 0.3425262676477265, 0.9290714123770705, 0.20415190214993567, 0.8166076085997427, 0.7039660169397786, 0.9527601304320169, 0.9135763758951426, 0.8762772860154621, 0.24535885373267127, 0.7360765611980138, 0.058247311661567186, 0.09707885276927865, 0.01941577055385573, 0.21357347609241303, 0.4659784932925375, 0.058247311661567186, 0.09707885276927865, 0.46190716124852477, 0.49077635882655757, 0.028869197578032798, 0.7769836097662671, 0.026066064402970702, 0.15639638641782422, 0.052132128805941404, 0.20852851522376561, 0.5734534168653554, 0.2935953388405582, 0.5871906776811164, 0.677621943302116, 0.7769758294541375, 0.0535403078790266, 0.24628541624352232, 0.02141612315161064, 0.25699347781932763, 0.3319499088499649, 0.01070806157580532, 0.07495643103063723, 0.1685591224807246, 0.5056773674421738, 0.1685591224807246, 0.9199408935096378, 0.9003161275367683, 0.29654300309396703, 0.6919336738859231, 0.4912045590226714, 0.8757379448907571, 0.7770909203093366, 0.9255218905249365, 0.36617765996777185, 0.10462218856222052, 0.5231109428111026, 0.046237397689715146, 0.6473235676560121, 0.16183089191400302, 0.023118698844857573, 0.13871219306914542, 0.032089665072899246, 0.48134497609348864, 0.3208966507289924, 0.12835866029159698, 0.4463081007972364, 0.5355697209566836, 0.9193201966845501, 0.04428763863455131, 0.04428763863455131, 0.6643145795182697, 0.04428763863455131, 0.13286291590365393, 0.8211730919871092, 0.041081970575425085, 0.5340656174805261, 0.41081970575425086, 0.041081970575425085, 0.9316848185009108, 0.917561114547324, 0.9783753380538246, 0.2536803848039889, 0.5073607696079778, 0.9317271107819719, 0.7508313654657771, 0.9326163182660606, 0.6803372860025337, 0.22677909533417792, 0.48459571215033964, 0.1076879360334088, 0.0538439680167044, 0.269219840083522, 0.0538439680167044, 0.4549501942111151, 0.09099003884222302, 0.18198007768444605, 0.18198007768444605, 0.09099003884222302, 0.09840151407495144, 0.16868830984277391, 0.014057359153564493, 0.3514339788391123, 0.014057359153564493, 0.1968030281499029, 0.05622943661425797, 0.08434415492138696, 0.7682401642671962, 0.9515930823858094, 0.5038367666136144, 0.9776543397868224, 0.6532823192556342, 0.9319013121796103, 0.595352485398721, 0.9815418735471483, 0.8610781283174761, 0.7231069541736966, 0.7687497432383369, 0.9537259627755726, 0.28145016327214856, 0.5629003265442971, 0.590812145472826, 0.1304701985867772, 0.0652350992933886, 0.7175860922272747, 0.0652350992933886, 0.9422051706233571, 0.49190818689913146, 0.9373722859383274, 0.8242462069735329, 0.08242462069735329, 0.08242462069735329, 0.9080752106619024, 0.16615067435786443, 0.4430684649543052, 0.2215342324771526, 0.1107671162385763, 0.1107671162385763, 0.11182109791565618, 0.8945687833252495, 0.21032593035283487, 0.736140756234922, 0.3700385134410521, 0.5550577701615782, 0.7793145668788812, 0.17984182312589567, 0.8978305848362603, 0.9002927461054672, 0.5646070281037757, 0.07057587851297197, 0.35287939256485984, 0.13260873388868707, 0.46413056861040475, 0.2983696512495459, 0.0994565504165153, 0.7232607316865087, 0.48637184224035224, 0.48637184224035224, 0.5263850946086297, 0.387192275942442, 0.387192275942442, 0.49133276550308314, 0.8286335347363275, 0.5315396742799101, 0.7765688227673804, 0.047757176665039265, 0.19102870666015706, 0.7163576499755889, 0.5261187472268292, 0.4115447338961339, 0.05879210484230484, 0.11758420968460968, 0.35275262905382904, 0.05879210484230484, 0.5007765950834521, 0.5007765950834521, 0.021819761150261414, 0.45821498415548967, 0.021819761150261414, 0.24001737265287554, 0.21819761150261413, 0.021819761150261414, 0.4663968239146438, 0.09327936478292877, 0.37311745913171507, 0.05124517015460175, 0.204980680618407, 0.409961361236814, 0.30747102092761047, 0.08678897261995451, 0.7811007535795906, 0.08678897261995451, 0.6720497617995064, 0.22401658726650212, 0.6103499660249528, 0.8876494606707372, 0.9255775128893902, 0.9463193957832271, 0.8711307915223113, 0.17422615830446228, 0.9085393497653039, 0.718699062591735, 0.2310212804118594, 0.6930638412355782, 0.8302973745721058, 0.14463567142432576, 0.07231783571216288, 0.4339070142729773, 0.3615891785608144, 0.12185317817289355, 0.3655595345186807, 0.3249418084610495, 0.16247090423052474, 0.9325391783965471, 0.2230382983841371, 0.02230382983841371, 0.3122536177377919, 0.4237727669298605, 0.02230382983841371, 0.718699062591735, 0.6816789666092405, 0.34083948330462027, 0.3496597871344965, 0.4856385932423563, 0.07770217491877701, 0.07770217491877701, 0.09609970145733525, 0.8648973131160173, 0.503788171033643, 0.679094004317076, 0.5957151560749558, 0.2978575780374779, 0.035347186168986695, 0.21208311701392019, 0.7069437233797339, 0.8496903933793474, 0.2728378793047389, 0.2728378793047389, 0.4365406068875823, 0.9003594083406661, 0.043463223247112784, 0.2607793394826767, 0.6519483487066917, 0.6529832154086866, 0.2690101618042094, 0.2690101618042094, 0.2690101618042094, 0.2690101618042094, 0.5031124620176458, 0.8270403084816507, 0.23731506029420157, 0.23731506029420157, 0.47463012058840315, 0.8856908357715516, 0.850459008592845, 0.9316453578243652, 0.13403742572182564, 0.04467914190727521, 0.22339570953637605, 0.5808288447945777, 0.677227875718596, 0.225742625239532, 0.31773925630783245, 0.6354785126156649, 0.05295654271797207, 0.0837089550545733, 0.8370895505457331, 0.0837089550545733, 0.4532818334344583, 0.3885272858009643, 0.1295090952669881, 0.06475454763349404, 0.4912741967402028, 0.0785629134026298, 0.0261876378008766, 0.1833134646061362, 0.523752756017532, 0.130938189004383, 0.0523752756017532, 0.16918991407710302, 0.620363018282711, 0.112793276051402, 0.056396638025701, 0.14316597971780612, 0.28633195943561224, 0.14316597971780612, 0.28633195943561224, 0.14316597971780612, 0.9316713206614868, 0.5266282342762083, 0.04119217943810302, 0.10984581183494138, 0.013730726479367673, 0.2883452560667211, 0.4943061532572362, 0.013730726479367673, 0.013730726479367673, 0.9796535281256273, 0.7918710012766302, 0.8293222928139725], \"Term\": [\"128\", \"915\", \"abc\", \"abc\", \"abc\", \"abc\", \"abc\", \"abc\", \"abc\", \"able\", \"absolutely\", \"absolutely\", \"absolutely\", \"absolutely\", \"absolutely\", \"actually\", \"actually\", \"addition\", \"airy\", \"along\", \"also\", \"also\", \"also\", \"also\", \"also\", \"always\", \"always\", \"amazing\", \"amazing\", \"amazing\", \"amazing\", \"amazing\", \"amazing\", \"ambiance\", \"ambiance\", \"ambiance\", \"ambiance\", \"ambiance\", \"ambiance\", \"ambience\", \"ambience\", \"ambience\", \"another\", \"another\", \"another\", \"another\", \"apologized\", \"arrived\", \"arrived\", \"arrived\", \"asking\", \"asparagus\", \"associated\", \"attention\", \"attitude\", \"average\", \"average\", \"avocado\", \"avocado\", \"bachelorette\", \"back\", \"back\", \"back\", \"back\", \"back\", \"back\", \"back\", \"bacon\", \"bad\", \"bad\", \"bad\", \"balanced\", \"balls\", \"balls\", \"bar\", \"bar\", \"bar\", \"bar\", \"barely\", \"barely\", \"basic\", \"basil\", \"beautiful\", \"beautiful\", \"beautiful\", \"beautiful\", \"best\", \"best\", \"best\", \"best\", \"best\", \"best\", \"beyond\", \"bill\", \"biscuits\", \"biscuits\", \"bland\", \"blood\", \"board\", \"bolognese\", \"bottom\", \"boyfriend\", \"brunch\", \"brunch\", \"brunch\", \"brunch\", \"brussel\", \"brussel\", \"brussel\", \"brussels\", \"buena\", \"burger\", \"burger\", \"burger\", \"burnt\", \"butter\", \"butter\", \"buttermilk\", \"cabbage\", \"cake\", \"cake\", \"came\", \"came\", \"came\", \"came\", \"came\", \"came\", \"card\", \"card\", \"carrot\", \"carrot\", \"cause\", \"chairs\", \"champagne\", \"champagne\", \"change\", \"check\", \"check\", \"check\", \"check\", \"check\", \"check\", \"checked\", \"cheese\", \"cheese\", \"cheese\", \"cherry\", \"chic\", \"chicken\", \"chicken\", \"chicken\", \"chicken\", \"chicken\", \"chocolate\", \"chocolate\", \"chocolate\", \"chop\", \"chose\", \"cocktail\", \"combinations\", \"come\", \"come\", \"come\", \"come\", \"comes\", \"comes\", \"comes\", \"comida\", \"coming\", \"coming\", \"complete\", \"constantly\", \"cooked\", \"cooked\", \"cotta\", \"could\", \"could\", \"could\", \"could\", \"could\", \"couldnt\", \"couldnt\", \"couldnt\", \"couldnt\", \"couple\", \"couple\", \"course\", \"course\", \"course\", \"covid\", \"covid\", \"covid\", \"crab\", \"crab\", \"crab\", \"crab\", \"creative\", \"crispy\", \"crispy\", \"croutons\", \"crunch\", \"crust\", \"crust\", \"crust\", \"cuisine\", \"curd\", \"customer\", \"customer\", \"cut\", \"dark\", \"daughter\", \"decent\", \"decent\", \"decided\", \"decided\", \"deco\", \"decor\", \"decor\", \"decor\", \"decor\", \"decor\", \"def\", \"definitely\", \"definitely\", \"definitely\", \"definitely\", \"definitely\", \"definitely\", \"delicious\", \"delicious\", \"delicious\", \"delicious\", \"delicious\", \"delicious\", \"delight\", \"depending\", \"designed\", \"didit\", \"didnt\", \"didnt\", \"didnt\", \"didnt\", \"dining\", \"dining\", \"dining\", \"dining\", \"dining\", \"dinner\", \"dinner\", \"dinner\", \"dinner\", \"dinner\", \"dinner\", \"dinner\", \"dipped\", \"disappointed\", \"disappoints\", \"dish\", \"dish\", \"dish\", \"dish\", \"dishes\", \"dishes\", \"dishes\", \"dishes\", \"dishes\", \"distinct\", \"drink\", \"drink\", \"drink\", \"drinking\", \"drinking\", \"eggs\", \"eggs\", \"end\", \"entrance\", \"entrance\", \"entrees\", \"entrees\", \"entrees\", \"even\", \"even\", \"even\", \"even\", \"even\", \"evening\", \"expectations\", \"expectations\", \"experience\", \"experience\", \"experience\", \"experience\", \"experience\", \"experiencethank\", \"explain\", \"exquisite\", \"extremely\", \"extremely\", \"extremely\", \"family\", \"feel\", \"feel\", \"feeling\", \"fell\", \"fell\", \"fettuccini\", \"filled\", \"filled\", \"filling\", \"find\", \"find\", \"fine\", \"fine\", \"fine\", \"fine\", \"finish\", \"fish\", \"fish\", \"fish\", \"fish\", \"flag\", \"flavor\", \"flavor\", \"flavor\", \"flavor\", \"flavor\", \"flavorful\", \"flavorful\", \"flavorful\", \"food\", \"food\", \"food\", \"food\", \"food\", \"food\", \"food\", \"found\", \"four\", \"fresh\", \"fresh\", \"fresh\", \"fresh\", \"fresh\", \"fried\", \"fried\", \"fried\", \"friend\", \"friend\", \"gave\", \"gave\", \"gave\", \"gave\", \"get\", \"get\", \"get\", \"get\", \"gets\", \"ginger\", \"girlfriend\", \"glad\", \"glad\", \"glasses\", \"goat\", \"goat\", \"going\", \"going\", \"going\", \"going\", \"good\", \"good\", \"good\", \"good\", \"good\", \"good\", \"gorgeous\", \"got\", \"got\", \"got\", \"great\", \"great\", \"great\", \"great\", \"great\", \"great\", \"grilled\", \"group\", \"half\", \"hard\", \"hard\", \"hard\", \"hate\", \"hate\", \"hear\", \"hey\", \"highly\", \"highly\", \"home\", \"home\", \"home\", \"home\", \"honestly\", \"hoped\", \"hopes\", \"horrible\", \"hostess\", \"hostess\", \"hostess\", \"hot\", \"hot\", \"hour\", \"hour\", \"housemade\", \"however\", \"however\", \"hype\", \"hype\", \"ideal\", \"impressed\", \"impressed\", \"included\", \"incredibly\", \"insisting\", \"ive\", \"ive\", \"ive\", \"ive\", \"ive\", \"jeangeorges\", \"juicy\", \"kale\", \"kale\", \"keep\", \"keep\", \"kinda\", \"kitchen\", \"kitchen\", \"kitchen\", \"kitchen\", \"kitchen\", \"kitchen\", \"knowledgeable\", \"last\", \"last\", \"last\", \"later\", \"later\", \"later\", \"later\", \"layer\", \"least\", \"leave\", \"leave\", \"lemon\", \"lemon\", \"lemon\", \"lemon\", \"lemon\", \"lights\", \"like\", \"like\", \"like\", \"like\", \"like\", \"like\", \"line\", \"list\", \"literally\", \"literally\", \"literally\", \"looked\", \"looked\", \"love\", \"love\", \"love\", \"love\", \"love\", \"love\", \"lunch\", \"lunch\", \"lunch\", \"lunch\", \"lunch\", \"lunch\", \"made\", \"made\", \"made\", \"made\", \"make\", \"make\", \"make\", \"make\", \"management\", \"many\", \"many\", \"many\", \"many\", \"many\", \"margarita\", \"market\", \"market\", \"mashed\", \"match\", \"mayo\", \"meal\", \"meal\", \"meal\", \"meal\", \"meet\", \"meh\", \"mentioned\", \"menu\", \"menu\", \"menu\", \"menu\", \"menu\", \"menu\", \"met\", \"michelin\", \"min\", \"mind\", \"mins\", \"minutes\", \"minutes\", \"minutes\", \"minutes\", \"miss\", \"miss\", \"mistake\", \"modern\", \"modern\", \"mood\", \"much\", \"much\", \"much\", \"much\", \"much\", \"much\", \"mushroom\", \"mushroom\", \"mushroom\", \"mushrooms\", \"mustard\", \"mustard\", \"muy\", \"nearby\", \"never\", \"never\", \"never\", \"never\", \"nice\", \"nice\", \"nice\", \"nice\", \"nice\", \"nonetheless\", \"older\", \"one\", \"one\", \"one\", \"one\", \"one\", \"opted\", \"orange\", \"order\", \"order\", \"order\", \"order\", \"ordered\", \"ordered\", \"ordered\", \"ordered\", \"ordered\", \"ordering\", \"ordering\", \"outstandingi\", \"overpowered\", \"oysters\", \"paired\", \"pancakes\", \"pandemic\", \"pandemic\", \"panna\", \"paper\", \"patrons\", \"pay\", \"pea\", \"perfectwe\", \"personal\", \"pesto\", \"pesto\", \"pesto\", \"pinot\", \"pita\", \"pizza\", \"pizza\", \"pizza\", \"pizza\", \"pizza\", \"place\", \"place\", \"place\", \"place\", \"place\", \"place\", \"place\", \"place\", \"plan\", \"plan\", \"point\", \"point\", \"point\", \"point\", \"point\", \"point\", \"point\", \"poor\", \"por\", \"portion\", \"portion\", \"portion\", \"potatoes\", \"potatoes\", \"presentation\", \"presentation\", \"pretzel\", \"prices\", \"prices\", \"prior\", \"professional\", \"pudding\", \"que\", \"ravioli\", \"ravioli\", \"really\", \"really\", \"really\", \"really\", \"really\", \"really\", \"really\", \"recommend\", \"recommend\", \"recommend\", \"reputation\", \"reservation\", \"reservation\", \"reservation\", \"reservation\", \"reservation\", \"reservations\", \"reservations\", \"response\", \"responsible\", \"restaurant\", \"restaurant\", \"restaurant\", \"restaurant\", \"restaurant\", \"restaurant\", \"restaurant\", \"review\", \"review\", \"review\", \"reviews\", \"rhubarb\", \"right\", \"right\", \"roast\", \"romantic\", \"runners\", \"rushed\", \"said\", \"said\", \"said\", \"salad\", \"salad\", \"salad\", \"salad\", \"salad\", \"salmon\", \"salmon\", \"salmon\", \"salmon\", \"sashimi\", \"sashimi\", \"saturday\", \"sauce\", \"sauce\", \"sauce\", \"sauce\", \"sauce\", \"scrambled\", \"sea\", \"sea\", \"sea\", \"sea\", \"seasonal\", \"seat\", \"seating\", \"second\", \"second\", \"seed\", \"seemed\", \"sent\", \"served\", \"served\", \"server\", \"server\", \"server\", \"server\", \"server\", \"servers\", \"servers\", \"servers\", \"servers\", \"servers\", \"service\", \"service\", \"service\", \"service\", \"service\", \"service\", \"service\", \"service\", \"serving\", \"set\", \"several\", \"shared\", \"shavings\", \"short\", \"shortbread\", \"sides\", \"simple\", \"situation\", \"six\", \"size\", \"sizes\", \"sizes\", \"slamming\", \"small\", \"small\", \"small\", \"small\", \"smile\", \"sold\", \"someone\", \"something\", \"something\", \"something\", \"soon\", \"soup\", \"soup\", \"soup\", \"soup\", \"soup\", \"space\", \"space\", \"spinach\", \"spinach\", \"sprouts\", \"sprouts\", \"squash\", \"squash\", \"squeezed\", \"staple\", \"stars\", \"stars\", \"stars\", \"still\", \"still\", \"still\", \"still\", \"straight\", \"strange\", \"strange\", \"strawberries\", \"strawberry\", \"strawberry\", \"strozzapreti\", \"style\", \"subtle\", \"suggestions\", \"super\", \"super\", \"super\", \"superb\", \"sure\", \"sure\", \"sure\", \"sure\", \"sure\", \"surprised\", \"surprised\", \"table\", \"table\", \"table\", \"table\", \"table\", \"table\", \"take\", \"take\", \"take\", \"taste\", \"taste\", \"taste\", \"taste\", \"tasted\", \"tasted\", \"tasted\", \"tastes\", \"tastes\", \"tasting\", \"tell\", \"terrible\", \"texture\", \"thanks\", \"thanks\", \"theres\", \"theyve\", \"thick\", \"thick\", \"thin\", \"think\", \"think\", \"think\", \"think\", \"though\", \"though\", \"though\", \"though\", \"tied\", \"time\", \"time\", \"time\", \"time\", \"time\", \"timeeverything\", \"tip\", \"tip\", \"toast\", \"toast\", \"toast\", \"toast\", \"together\", \"together\", \"trendy\", \"true\", \"truly\", \"truly\", \"try\", \"try\", \"try\", \"trying\", \"tuna\", \"tuna\", \"tuna\", \"turmeric\", \"two\", \"two\", \"two\", \"upscale\", \"used\", \"used\", \"used\", \"used\", \"usually\", \"vanilla\", \"vegetables\", \"vegetables\", \"vegetables\", \"vibe\", \"vinaigrette\", \"visits\", \"wait\", \"wait\", \"wait\", \"wait\", \"waited\", \"waited\", \"waiter\", \"waiter\", \"waiter\", \"wasnt\", \"wasnt\", \"wasnt\", \"week\", \"week\", \"week\", \"week\", \"weekend\", \"well\", \"well\", \"well\", \"well\", \"well\", \"well\", \"wine\", \"wine\", \"wine\", \"wine\", \"without\", \"without\", \"without\", \"without\", \"without\", \"wont\", \"worthy\", \"would\", \"would\", \"would\", \"would\", \"would\", \"would\", \"would\", \"year\", \"yummy\", \"zero\"]}, \"R\": 30, \"lambda.step\": 0.01, \"plot.opts\": {\"xlab\": \"PC1\", \"ylab\": \"PC2\"}, \"topic.order\": [1, 2, 3, 4, 5, 6, 7, 8, 9]};\n",
       "\n",
       "function LDAvis_load_lib(url, callback){\n",
       "  var s = document.createElement('script');\n",
       "  s.src = url;\n",
       "  s.async = true;\n",
       "  s.onreadystatechange = s.onload = callback;\n",
       "  s.onerror = function(){console.warn(\"failed to load library \" + url);};\n",
       "  document.getElementsByTagName(\"head\")[0].appendChild(s);\n",
       "}\n",
       "\n",
       "if(typeof(LDAvis) !== \"undefined\"){\n",
       "   // already loaded: just create the visualization\n",
       "   !function(LDAvis){\n",
       "       new LDAvis(\"#\" + \"ldavis_el651406923521452324072230283\", ldavis_el651406923521452324072230283_data);\n",
       "   }(LDAvis);\n",
       "}else if(typeof define === \"function\" && define.amd){\n",
       "   // require.js is available: use it to load d3/LDAvis\n",
       "   require.config({paths: {d3: \"https://d3js.org/d3.v5\"}});\n",
       "   require([\"d3\"], function(d3){\n",
       "      window.d3 = d3;\n",
       "      LDAvis_load_lib(\"https://cdn.jsdelivr.net/gh/bmabey/pyLDAvis@3.2.2/pyLDAvis/js/ldavis.v3.0.0.js\", function(){\n",
       "        new LDAvis(\"#\" + \"ldavis_el651406923521452324072230283\", ldavis_el651406923521452324072230283_data);\n",
       "      });\n",
       "    });\n",
       "}else{\n",
       "    // require.js not available: dynamically load d3 & LDAvis\n",
       "    LDAvis_load_lib(\"https://d3js.org/d3.v5.js\", function(){\n",
       "         LDAvis_load_lib(\"https://cdn.jsdelivr.net/gh/bmabey/pyLDAvis@3.2.2/pyLDAvis/js/ldavis.v3.0.0.js\", function(){\n",
       "                 new LDAvis(\"#\" + \"ldavis_el651406923521452324072230283\", ldavis_el651406923521452324072230283_data);\n",
       "            })\n",
       "         });\n",
       "}\n",
       "</script>"
      ],
      "text/plain": [
       "PreparedData(topic_coordinates=                x           y  topics  cluster       Freq\n",
       "topic                                                    \n",
       "0      111.092506 -133.722946       1        1   5.905181\n",
       "1       34.946613  107.064590       2        1  11.721977\n",
       "2      -28.088213 -159.949036       3        1   1.187840\n",
       "3      147.698074   21.369604       4        1   3.767991\n",
       "4      -97.501183  126.981384       5        1  26.770985\n",
       "5       30.312096  -32.794945       6        1   1.167275\n",
       "6     -155.443665 -118.494690       7        1  36.516446\n",
       "7     -204.248108   22.596130       8        1   5.609725\n",
       "8      -79.404678   -6.864717       9        1   7.352580, topic_info=           Term        Freq       Total Category  logprob  loglift\n",
       "13         food  103.000000  103.000000  Default  30.0000  30.0000\n",
       "171        good  125.000000  125.000000  Default  29.0000  29.0000\n",
       "191     amazing   34.000000   34.000000  Default  28.0000  28.0000\n",
       "31      service   71.000000   71.000000  Default  27.0000  27.0000\n",
       "28   restaurant   93.000000   93.000000  Default  26.0000  26.0000\n",
       "..          ...         ...         ...      ...      ...      ...\n",
       "500       could    3.892729   25.427525   Topic9  -5.3824   0.7334\n",
       "395      salmon    3.951951   31.162681   Topic9  -5.3673   0.5451\n",
       "4          come    3.823879   22.194386   Topic9  -5.4002   0.8515\n",
       "159       toast    3.971496   51.478611   Topic9  -5.3623   0.0481\n",
       "18         like    3.988529   61.976599   Topic9  -5.3580  -0.1332\n",
       "\n",
       "[592 rows x 6 columns], token_table=      Topic      Freq   Term\n",
       "term                        \n",
       "218       6  0.704531    128\n",
       "872       1  0.491054    915\n",
       "118       1  0.043644    abc\n",
       "118       2  0.058192    abc\n",
       "118       4  0.014548    abc\n",
       "...     ...       ...    ...\n",
       "37        8  0.013731  would\n",
       "37        9  0.013731  would\n",
       "2387      8  0.979654   year\n",
       "1040      7  0.791871  yummy\n",
       "2056      9  0.829322   zero\n",
       "\n",
       "[917 rows x 3 columns], R=30, lambda_step=0.01, plot_opts={'xlab': 'PC1', 'ylab': 'PC2'}, topic_order=[1, 2, 3, 4, 5, 6, 7, 8, 9])"
      ]
     },
     "execution_count": 36,
     "metadata": {},
     "output_type": "execute_result"
    }
   ],
   "source": [
    "pyLDAvis.enable_notebook()\n",
    "LDAvis_prepared = pyLDAvis.gensim.prepare(model_viz, corpus, dictionary, mds=\"tsne\", sort_topics=False)\n",
    "LDAvis_prepared"
   ]
  },
  {
   "cell_type": "markdown",
   "metadata": {
    "id": "0ZJPsaEa6oX6"
   },
   "source": [
    "Topic Interpretation in decreasing order of importance (most prevalent topic appears at the top):\n",
    "\n",
    "**Topic #7**: Overwhelmingly positive reviews, mostly focussed on ‘delicious’ and ‘flavorful’ dishes. Some of the popular food items include chicken, crab, cake, and sauce. Patrons also liked the ‘decor’ of the restaurant. \n",
    "\n",
    "**Topic #5**: Positive food reviews like Topic #7, but focused on a separate set of food items such as salad, pizza, squash, mushroom, salmon, sea-food/fish, kale  and burger. Interestingly, patrons seems to give out high Net Promoter Score (NPS), as they ‘recommend-ed’ this place.\n",
    "\n",
    "**Topic #2**: Poor reviews, as ‘management’ may have had to ‘apologize’ for ‘mistake(s)’ , extended ‘wait’, and ‘poor’ / ‘rushed’ service. \n",
    "\n",
    "**Topic #9**: Average reviews, as patrons felt ‘short’ on their ‘expectations’. Food may have been ‘burnt’, ‘nonetheless’ they may have liked the ‘ambience’ in general. \n",
    "\n",
    "**Topic #1**: Positive reviews, focussed on ‘good service’ and good sea-food such as ‘tuna’, ‘sashimi’.  \n",
    "\n",
    "**Topic #8**: Neutral reviews made by patrons visiting on ’Saturday brunches’ . Food items such as ‘scrambled eggs’, ‘pancakes’ , ‘buttermilk’, ‘biscuits’ are discussed with a neutral tone with words like ‘exquisite’ and ‘however’ thrown together.\n",
    "\n",
    "**Topic #4**: Overwhelmingly Positive reviews, as patrons came with families (‘daughter’) and liked ‘presentation’ and ‘combination’ of the food items, going as far as calling out ‘worthy’ of ‘Michelin’. Interestingly patrons appreciated produces such as ’strawberries’, and ’brussels sprouts’,  indicating the restaurant may be using good quality fresh produces. \n",
    "\n",
    "**Topics #3 and #6**: Poor reviews as patrons complained about service (‘hostess’, ‘server’). \n",
    "\n",
    "**Conclusion**: Overall, the business has received mostly positive reviews around food, decor, and ambience. The poor reviews constitute less of the overall reviews and are mostly around the poor service quality. "
   ]
  }
 ],
 "metadata": {
  "colab": {
   "collapsed_sections": [
    "vDE-_C2A6oWi",
    "NAkD_sBI6oWx",
    "Hquw9UxB6oW_",
    "BD-wPTXj6oXF"
   ],
   "name": "Topic Modeling for ABC Kitchen.ipynb",
   "provenance": []
  },
  "kernelspec": {
   "display_name": "Python 3",
   "language": "python",
   "name": "python3"
  },
  "language_info": {
   "codemirror_mode": {
    "name": "ipython",
    "version": 3
   },
   "file_extension": ".py",
   "mimetype": "text/x-python",
   "name": "python",
   "nbconvert_exporter": "python",
   "pygments_lexer": "ipython3",
   "version": "3.7.6"
  }
 },
 "nbformat": 4,
 "nbformat_minor": 0
}
